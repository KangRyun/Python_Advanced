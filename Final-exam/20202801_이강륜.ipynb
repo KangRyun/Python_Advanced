{
 "cells": [
  {
   "attachments": {},
   "cell_type": "markdown",
   "id": "954e8ddd",
   "metadata": {},
   "source": [
    "## 기말 시험\n",
    "\n",
    "기말 시험은 총 40점으로, 각 문항의 배점은 5점 입니다. \n",
    "\n",
    "Kaggle에 있는 실제 데이터셋으로 기말시험을 수행해보려고 합니다.  \n",
    "본 데이터셋은 Titanic 데이터셋으로, 타이타닉에 탑승한 승객들에 대한 정보를 담고 있으며, 해당 승객이 살았는지 사망했는지에 대한 정보 또한 담고 있습니다. \n",
    "\n",
    "데이터에 대한 자세한 사항은 다음 링크를 참고하세요\n",
    "https://www.kaggle.com/c/titanic/data?select=train.csv"
   ]
  },
  {
   "cell_type": "code",
   "execution_count": 1,
   "id": "d330ac90",
   "metadata": {},
   "outputs": [],
   "source": [
    "import pandas as pd\n",
    "import numpy as np"
   ]
  },
  {
   "attachments": {},
   "cell_type": "markdown",
   "id": "8d21b53f",
   "metadata": {},
   "source": [
    "### 1. 데이터 읽기\n",
    "\n",
    "#### 1-1 `train.csv` 데이터를 읽어온 후 1) 데이터의 행과 열의 갯수 및 2) 기초 통계값을 출력해 봅시다. `describe` method 활용 (5점)"
   ]
  },
  {
   "cell_type": "code",
   "execution_count": 5,
   "id": "0bda565c",
   "metadata": {},
   "outputs": [
    {
     "data": {
      "text/html": [
       "<div>\n",
       "<style scoped>\n",
       "    .dataframe tbody tr th:only-of-type {\n",
       "        vertical-align: middle;\n",
       "    }\n",
       "\n",
       "    .dataframe tbody tr th {\n",
       "        vertical-align: top;\n",
       "    }\n",
       "\n",
       "    .dataframe thead th {\n",
       "        text-align: right;\n",
       "    }\n",
       "</style>\n",
       "<table border=\"1\" class=\"dataframe\">\n",
       "  <thead>\n",
       "    <tr style=\"text-align: right;\">\n",
       "      <th></th>\n",
       "      <th>PassengerId</th>\n",
       "      <th>Survived</th>\n",
       "      <th>Pclass</th>\n",
       "      <th>Age</th>\n",
       "      <th>SibSp</th>\n",
       "      <th>Parch</th>\n",
       "      <th>Fare</th>\n",
       "    </tr>\n",
       "  </thead>\n",
       "  <tbody>\n",
       "    <tr>\n",
       "      <th>count</th>\n",
       "      <td>891.000000</td>\n",
       "      <td>891.000000</td>\n",
       "      <td>891.000000</td>\n",
       "      <td>714.000000</td>\n",
       "      <td>891.000000</td>\n",
       "      <td>891.000000</td>\n",
       "      <td>891.000000</td>\n",
       "    </tr>\n",
       "    <tr>\n",
       "      <th>mean</th>\n",
       "      <td>446.000000</td>\n",
       "      <td>0.383838</td>\n",
       "      <td>2.308642</td>\n",
       "      <td>29.699118</td>\n",
       "      <td>0.523008</td>\n",
       "      <td>0.381594</td>\n",
       "      <td>32.204208</td>\n",
       "    </tr>\n",
       "    <tr>\n",
       "      <th>std</th>\n",
       "      <td>257.353842</td>\n",
       "      <td>0.486592</td>\n",
       "      <td>0.836071</td>\n",
       "      <td>14.526497</td>\n",
       "      <td>1.102743</td>\n",
       "      <td>0.806057</td>\n",
       "      <td>49.693429</td>\n",
       "    </tr>\n",
       "    <tr>\n",
       "      <th>min</th>\n",
       "      <td>1.000000</td>\n",
       "      <td>0.000000</td>\n",
       "      <td>1.000000</td>\n",
       "      <td>0.420000</td>\n",
       "      <td>0.000000</td>\n",
       "      <td>0.000000</td>\n",
       "      <td>0.000000</td>\n",
       "    </tr>\n",
       "    <tr>\n",
       "      <th>25%</th>\n",
       "      <td>223.500000</td>\n",
       "      <td>0.000000</td>\n",
       "      <td>2.000000</td>\n",
       "      <td>20.125000</td>\n",
       "      <td>0.000000</td>\n",
       "      <td>0.000000</td>\n",
       "      <td>7.910400</td>\n",
       "    </tr>\n",
       "    <tr>\n",
       "      <th>50%</th>\n",
       "      <td>446.000000</td>\n",
       "      <td>0.000000</td>\n",
       "      <td>3.000000</td>\n",
       "      <td>28.000000</td>\n",
       "      <td>0.000000</td>\n",
       "      <td>0.000000</td>\n",
       "      <td>14.454200</td>\n",
       "    </tr>\n",
       "    <tr>\n",
       "      <th>75%</th>\n",
       "      <td>668.500000</td>\n",
       "      <td>1.000000</td>\n",
       "      <td>3.000000</td>\n",
       "      <td>38.000000</td>\n",
       "      <td>1.000000</td>\n",
       "      <td>0.000000</td>\n",
       "      <td>31.000000</td>\n",
       "    </tr>\n",
       "    <tr>\n",
       "      <th>max</th>\n",
       "      <td>891.000000</td>\n",
       "      <td>1.000000</td>\n",
       "      <td>3.000000</td>\n",
       "      <td>80.000000</td>\n",
       "      <td>8.000000</td>\n",
       "      <td>6.000000</td>\n",
       "      <td>512.329200</td>\n",
       "    </tr>\n",
       "  </tbody>\n",
       "</table>\n",
       "</div>"
      ],
      "text/plain": [
       "       PassengerId    Survived      Pclass         Age       SibSp  \\\n",
       "count   891.000000  891.000000  891.000000  714.000000  891.000000   \n",
       "mean    446.000000    0.383838    2.308642   29.699118    0.523008   \n",
       "std     257.353842    0.486592    0.836071   14.526497    1.102743   \n",
       "min       1.000000    0.000000    1.000000    0.420000    0.000000   \n",
       "25%     223.500000    0.000000    2.000000   20.125000    0.000000   \n",
       "50%     446.000000    0.000000    3.000000   28.000000    0.000000   \n",
       "75%     668.500000    1.000000    3.000000   38.000000    1.000000   \n",
       "max     891.000000    1.000000    3.000000   80.000000    8.000000   \n",
       "\n",
       "            Parch        Fare  \n",
       "count  891.000000  891.000000  \n",
       "mean     0.381594   32.204208  \n",
       "std      0.806057   49.693429  \n",
       "min      0.000000    0.000000  \n",
       "25%      0.000000    7.910400  \n",
       "50%      0.000000   14.454200  \n",
       "75%      0.000000   31.000000  \n",
       "max      6.000000  512.329200  "
      ]
     },
     "execution_count": 5,
     "metadata": {},
     "output_type": "execute_result"
    }
   ],
   "source": [
    "df=pd.read_csv(r'C:\\Users\\kr937\\Desktop\\drive\\2023\\Pyrhon 심화\\train.csv')\n",
    "df.describe()\n"
   ]
  },
  {
   "attachments": {},
   "cell_type": "markdown",
   "id": "66646e68",
   "metadata": {},
   "source": [
    "### 2. Data Query 하기\n",
    "\n"
   ]
  },
  {
   "attachments": {},
   "cell_type": "markdown",
   "id": "7141ff7e",
   "metadata": {},
   "source": [
    "#### 2-1 사고에서 생존한 사람은 총 몇명인가요? 생존한 사람만 추출하여 새로운 데이터프레임으로 할당해 봅시다. (5점)\n",
    "\n",
    "`Survived` 컬럼의 정보를 이용해야 합니다. 0은 사망한 사람을, 1은 생존할 사람을 나타냅니다."
   ]
  },
  {
   "cell_type": "code",
   "execution_count": 16,
   "id": "177b4b36",
   "metadata": {},
   "outputs": [
    {
     "data": {
      "text/plain": [
       "342"
      ]
     },
     "execution_count": 16,
     "metadata": {},
     "output_type": "execute_result"
    }
   ],
   "source": [
    "df_survived = df[df['Survived'] == 1]\n",
    "len(df_survived)"
   ]
  },
  {
   "attachments": {},
   "cell_type": "markdown",
   "id": "52e58645",
   "metadata": {},
   "source": [
    "#### 2-2 나이가 15살 이하인 사람과 60살 이상이 사람들 중에 생존한 사람들을 각각 출력해봅시다, 또한 두 나이그룹의 생존자 차이를 구해봅시다 (5점)"
   ]
  },
  {
   "cell_type": "code",
   "execution_count": 19,
   "id": "625567ef",
   "metadata": {},
   "outputs": [],
   "source": [
    "age15 = df_survived[df_survived['Age'] <= 15]"
   ]
  },
  {
   "cell_type": "code",
   "execution_count": 20,
   "id": "af9cd81a",
   "metadata": {},
   "outputs": [],
   "source": [
    "age60 = df_survived[df_survived['Age'] >= 60]"
   ]
  },
  {
   "cell_type": "code",
   "execution_count": 23,
   "id": "16302fb1",
   "metadata": {},
   "outputs": [
    {
     "data": {
      "text/plain": [
       "42"
      ]
     },
     "execution_count": 23,
     "metadata": {},
     "output_type": "execute_result"
    }
   ],
   "source": [
    "abs(len(age60) - len(age15))"
   ]
  },
  {
   "attachments": {},
   "cell_type": "markdown",
   "id": "39dff48f",
   "metadata": {},
   "source": [
    "두 그룹의 차이는 42명 입니다"
   ]
  },
  {
   "attachments": {},
   "cell_type": "markdown",
   "id": "d64605cf",
   "metadata": {},
   "source": [
    "#### 2-3 전체 데이터(제일 처음 불러온 데이터)를 `Age` 컬럼을 기준으로 나이가 많은 순에서 적은 순으로 정렬해 봅시다. 나이가 가장 많은 10명의 데이터 프레임을 출력해봅시다. (5점)"
   ]
  },
  {
   "cell_type": "code",
   "execution_count": 26,
   "id": "63100dae",
   "metadata": {},
   "outputs": [
    {
     "data": {
      "text/html": [
       "<div>\n",
       "<style scoped>\n",
       "    .dataframe tbody tr th:only-of-type {\n",
       "        vertical-align: middle;\n",
       "    }\n",
       "\n",
       "    .dataframe tbody tr th {\n",
       "        vertical-align: top;\n",
       "    }\n",
       "\n",
       "    .dataframe thead th {\n",
       "        text-align: right;\n",
       "    }\n",
       "</style>\n",
       "<table border=\"1\" class=\"dataframe\">\n",
       "  <thead>\n",
       "    <tr style=\"text-align: right;\">\n",
       "      <th></th>\n",
       "      <th>PassengerId</th>\n",
       "      <th>Survived</th>\n",
       "      <th>Pclass</th>\n",
       "      <th>Name</th>\n",
       "      <th>Sex</th>\n",
       "      <th>Age</th>\n",
       "      <th>SibSp</th>\n",
       "      <th>Parch</th>\n",
       "      <th>Ticket</th>\n",
       "      <th>Fare</th>\n",
       "      <th>Cabin</th>\n",
       "      <th>Embarked</th>\n",
       "    </tr>\n",
       "  </thead>\n",
       "  <tbody>\n",
       "    <tr>\n",
       "      <th>630</th>\n",
       "      <td>631</td>\n",
       "      <td>1</td>\n",
       "      <td>1</td>\n",
       "      <td>Barkworth, Mr. Algernon Henry Wilson</td>\n",
       "      <td>male</td>\n",
       "      <td>80.0</td>\n",
       "      <td>0</td>\n",
       "      <td>0</td>\n",
       "      <td>27042</td>\n",
       "      <td>30.0000</td>\n",
       "      <td>A23</td>\n",
       "      <td>S</td>\n",
       "    </tr>\n",
       "    <tr>\n",
       "      <th>851</th>\n",
       "      <td>852</td>\n",
       "      <td>0</td>\n",
       "      <td>3</td>\n",
       "      <td>Svensson, Mr. Johan</td>\n",
       "      <td>male</td>\n",
       "      <td>74.0</td>\n",
       "      <td>0</td>\n",
       "      <td>0</td>\n",
       "      <td>347060</td>\n",
       "      <td>7.7750</td>\n",
       "      <td>NaN</td>\n",
       "      <td>S</td>\n",
       "    </tr>\n",
       "    <tr>\n",
       "      <th>493</th>\n",
       "      <td>494</td>\n",
       "      <td>0</td>\n",
       "      <td>1</td>\n",
       "      <td>Artagaveytia, Mr. Ramon</td>\n",
       "      <td>male</td>\n",
       "      <td>71.0</td>\n",
       "      <td>0</td>\n",
       "      <td>0</td>\n",
       "      <td>PC 17609</td>\n",
       "      <td>49.5042</td>\n",
       "      <td>NaN</td>\n",
       "      <td>C</td>\n",
       "    </tr>\n",
       "    <tr>\n",
       "      <th>96</th>\n",
       "      <td>97</td>\n",
       "      <td>0</td>\n",
       "      <td>1</td>\n",
       "      <td>Goldschmidt, Mr. George B</td>\n",
       "      <td>male</td>\n",
       "      <td>71.0</td>\n",
       "      <td>0</td>\n",
       "      <td>0</td>\n",
       "      <td>PC 17754</td>\n",
       "      <td>34.6542</td>\n",
       "      <td>A5</td>\n",
       "      <td>C</td>\n",
       "    </tr>\n",
       "    <tr>\n",
       "      <th>116</th>\n",
       "      <td>117</td>\n",
       "      <td>0</td>\n",
       "      <td>3</td>\n",
       "      <td>Connors, Mr. Patrick</td>\n",
       "      <td>male</td>\n",
       "      <td>70.5</td>\n",
       "      <td>0</td>\n",
       "      <td>0</td>\n",
       "      <td>370369</td>\n",
       "      <td>7.7500</td>\n",
       "      <td>NaN</td>\n",
       "      <td>Q</td>\n",
       "    </tr>\n",
       "    <tr>\n",
       "      <th>672</th>\n",
       "      <td>673</td>\n",
       "      <td>0</td>\n",
       "      <td>2</td>\n",
       "      <td>Mitchell, Mr. Henry Michael</td>\n",
       "      <td>male</td>\n",
       "      <td>70.0</td>\n",
       "      <td>0</td>\n",
       "      <td>0</td>\n",
       "      <td>C.A. 24580</td>\n",
       "      <td>10.5000</td>\n",
       "      <td>NaN</td>\n",
       "      <td>S</td>\n",
       "    </tr>\n",
       "    <tr>\n",
       "      <th>745</th>\n",
       "      <td>746</td>\n",
       "      <td>0</td>\n",
       "      <td>1</td>\n",
       "      <td>Crosby, Capt. Edward Gifford</td>\n",
       "      <td>male</td>\n",
       "      <td>70.0</td>\n",
       "      <td>1</td>\n",
       "      <td>1</td>\n",
       "      <td>WE/P 5735</td>\n",
       "      <td>71.0000</td>\n",
       "      <td>B22</td>\n",
       "      <td>S</td>\n",
       "    </tr>\n",
       "    <tr>\n",
       "      <th>33</th>\n",
       "      <td>34</td>\n",
       "      <td>0</td>\n",
       "      <td>2</td>\n",
       "      <td>Wheadon, Mr. Edward H</td>\n",
       "      <td>male</td>\n",
       "      <td>66.0</td>\n",
       "      <td>0</td>\n",
       "      <td>0</td>\n",
       "      <td>C.A. 24579</td>\n",
       "      <td>10.5000</td>\n",
       "      <td>NaN</td>\n",
       "      <td>S</td>\n",
       "    </tr>\n",
       "    <tr>\n",
       "      <th>54</th>\n",
       "      <td>55</td>\n",
       "      <td>0</td>\n",
       "      <td>1</td>\n",
       "      <td>Ostby, Mr. Engelhart Cornelius</td>\n",
       "      <td>male</td>\n",
       "      <td>65.0</td>\n",
       "      <td>0</td>\n",
       "      <td>1</td>\n",
       "      <td>113509</td>\n",
       "      <td>61.9792</td>\n",
       "      <td>B30</td>\n",
       "      <td>C</td>\n",
       "    </tr>\n",
       "    <tr>\n",
       "      <th>280</th>\n",
       "      <td>281</td>\n",
       "      <td>0</td>\n",
       "      <td>3</td>\n",
       "      <td>Duane, Mr. Frank</td>\n",
       "      <td>male</td>\n",
       "      <td>65.0</td>\n",
       "      <td>0</td>\n",
       "      <td>0</td>\n",
       "      <td>336439</td>\n",
       "      <td>7.7500</td>\n",
       "      <td>NaN</td>\n",
       "      <td>Q</td>\n",
       "    </tr>\n",
       "  </tbody>\n",
       "</table>\n",
       "</div>"
      ],
      "text/plain": [
       "     PassengerId  Survived  Pclass                                  Name  \\\n",
       "630          631         1       1  Barkworth, Mr. Algernon Henry Wilson   \n",
       "851          852         0       3                   Svensson, Mr. Johan   \n",
       "493          494         0       1               Artagaveytia, Mr. Ramon   \n",
       "96            97         0       1             Goldschmidt, Mr. George B   \n",
       "116          117         0       3                  Connors, Mr. Patrick   \n",
       "672          673         0       2           Mitchell, Mr. Henry Michael   \n",
       "745          746         0       1          Crosby, Capt. Edward Gifford   \n",
       "33            34         0       2                 Wheadon, Mr. Edward H   \n",
       "54            55         0       1        Ostby, Mr. Engelhart Cornelius   \n",
       "280          281         0       3                      Duane, Mr. Frank   \n",
       "\n",
       "      Sex   Age  SibSp  Parch      Ticket     Fare Cabin Embarked  \n",
       "630  male  80.0      0      0       27042  30.0000   A23        S  \n",
       "851  male  74.0      0      0      347060   7.7750   NaN        S  \n",
       "493  male  71.0      0      0    PC 17609  49.5042   NaN        C  \n",
       "96   male  71.0      0      0    PC 17754  34.6542    A5        C  \n",
       "116  male  70.5      0      0      370369   7.7500   NaN        Q  \n",
       "672  male  70.0      0      0  C.A. 24580  10.5000   NaN        S  \n",
       "745  male  70.0      1      1   WE/P 5735  71.0000   B22        S  \n",
       "33   male  66.0      0      0  C.A. 24579  10.5000   NaN        S  \n",
       "54   male  65.0      0      1      113509  61.9792   B30        C  \n",
       "280  male  65.0      0      0      336439   7.7500   NaN        Q  "
      ]
     },
     "execution_count": 26,
     "metadata": {},
     "output_type": "execute_result"
    }
   ],
   "source": [
    "df.sort_values(\"Age\", ascending=False).head(10)"
   ]
  },
  {
   "attachments": {},
   "cell_type": "markdown",
   "id": "9dfbc4e5",
   "metadata": {},
   "source": [
    "#### 2-4 Pclass는 해당 승객이 묵었던 객실의 등급을 나타냅니다. 1등석, 2등석, 3등석에 탑승한 승객이 각각 몇명인지 출력하시오. (5점)"
   ]
  },
  {
   "cell_type": "code",
   "execution_count": 27,
   "id": "4e7cafe3",
   "metadata": {},
   "outputs": [
    {
     "name": "stdout",
     "output_type": "stream",
     "text": [
      "pclass 1 : 216\n",
      "pclass 2 : 184\n",
      "pclass 3 : 491\n"
     ]
    }
   ],
   "source": [
    "for i in range(3):\n",
    "    print('pclass', i+1,':',len(df[df.Pclass == i+1]))"
   ]
  },
  {
   "attachments": {},
   "cell_type": "markdown",
   "id": "ee4423a1",
   "metadata": {},
   "source": [
    "### 3. Pandas를 사용해 원하는 함수 구현하기"
   ]
  },
  {
   "attachments": {},
   "cell_type": "markdown",
   "id": "9b39baa6",
   "metadata": {},
   "source": [
    "#### 3.1 위의 타이타닉 데이터에서, 아래 컬럼들만 추출하고, 아래 조건을 만족하는 새로운 데이터 프레임을 만들어봅시다.  (5점)\n",
    "\n",
    "- 추출컬럼: `Name`, ,`Pclass`,`Fare`, `Survived`  \n",
    "- 조건: \n",
    "    1) 생존자만 추출\n",
    "    2) index를 reset 하여야 함 (`drop` option은 `True`로 지정)"
   ]
  },
  {
   "cell_type": "code",
   "execution_count": 42,
   "id": "9decb1f5",
   "metadata": {},
   "outputs": [
    {
     "data": {
      "text/html": [
       "<div>\n",
       "<style scoped>\n",
       "    .dataframe tbody tr th:only-of-type {\n",
       "        vertical-align: middle;\n",
       "    }\n",
       "\n",
       "    .dataframe tbody tr th {\n",
       "        vertical-align: top;\n",
       "    }\n",
       "\n",
       "    .dataframe thead th {\n",
       "        text-align: right;\n",
       "    }\n",
       "</style>\n",
       "<table border=\"1\" class=\"dataframe\">\n",
       "  <thead>\n",
       "    <tr style=\"text-align: right;\">\n",
       "      <th></th>\n",
       "      <th>Name</th>\n",
       "      <th>Pclass</th>\n",
       "      <th>Fare</th>\n",
       "      <th>Survived</th>\n",
       "    </tr>\n",
       "  </thead>\n",
       "  <tbody>\n",
       "    <tr>\n",
       "      <th>1</th>\n",
       "      <td>Cumings, Mrs. John Bradley (Florence Briggs Th...</td>\n",
       "      <td>1</td>\n",
       "      <td>71.2833</td>\n",
       "      <td>1</td>\n",
       "    </tr>\n",
       "    <tr>\n",
       "      <th>2</th>\n",
       "      <td>Heikkinen, Miss. Laina</td>\n",
       "      <td>3</td>\n",
       "      <td>7.9250</td>\n",
       "      <td>1</td>\n",
       "    </tr>\n",
       "    <tr>\n",
       "      <th>3</th>\n",
       "      <td>Futrelle, Mrs. Jacques Heath (Lily May Peel)</td>\n",
       "      <td>1</td>\n",
       "      <td>53.1000</td>\n",
       "      <td>1</td>\n",
       "    </tr>\n",
       "    <tr>\n",
       "      <th>8</th>\n",
       "      <td>Johnson, Mrs. Oscar W (Elisabeth Vilhelmina Berg)</td>\n",
       "      <td>3</td>\n",
       "      <td>11.1333</td>\n",
       "      <td>1</td>\n",
       "    </tr>\n",
       "    <tr>\n",
       "      <th>9</th>\n",
       "      <td>Nasser, Mrs. Nicholas (Adele Achem)</td>\n",
       "      <td>2</td>\n",
       "      <td>30.0708</td>\n",
       "      <td>1</td>\n",
       "    </tr>\n",
       "    <tr>\n",
       "      <th>...</th>\n",
       "      <td>...</td>\n",
       "      <td>...</td>\n",
       "      <td>...</td>\n",
       "      <td>...</td>\n",
       "    </tr>\n",
       "    <tr>\n",
       "      <th>875</th>\n",
       "      <td>Najib, Miss. Adele Kiamie \"Jane\"</td>\n",
       "      <td>3</td>\n",
       "      <td>7.2250</td>\n",
       "      <td>1</td>\n",
       "    </tr>\n",
       "    <tr>\n",
       "      <th>879</th>\n",
       "      <td>Potter, Mrs. Thomas Jr (Lily Alexenia Wilson)</td>\n",
       "      <td>1</td>\n",
       "      <td>83.1583</td>\n",
       "      <td>1</td>\n",
       "    </tr>\n",
       "    <tr>\n",
       "      <th>880</th>\n",
       "      <td>Shelley, Mrs. William (Imanita Parrish Hall)</td>\n",
       "      <td>2</td>\n",
       "      <td>26.0000</td>\n",
       "      <td>1</td>\n",
       "    </tr>\n",
       "    <tr>\n",
       "      <th>887</th>\n",
       "      <td>Graham, Miss. Margaret Edith</td>\n",
       "      <td>1</td>\n",
       "      <td>30.0000</td>\n",
       "      <td>1</td>\n",
       "    </tr>\n",
       "    <tr>\n",
       "      <th>889</th>\n",
       "      <td>Behr, Mr. Karl Howell</td>\n",
       "      <td>1</td>\n",
       "      <td>30.0000</td>\n",
       "      <td>1</td>\n",
       "    </tr>\n",
       "  </tbody>\n",
       "</table>\n",
       "<p>342 rows × 4 columns</p>\n",
       "</div>"
      ],
      "text/plain": [
       "                                                  Name  Pclass     Fare  \\\n",
       "1    Cumings, Mrs. John Bradley (Florence Briggs Th...       1  71.2833   \n",
       "2                               Heikkinen, Miss. Laina       3   7.9250   \n",
       "3         Futrelle, Mrs. Jacques Heath (Lily May Peel)       1  53.1000   \n",
       "8    Johnson, Mrs. Oscar W (Elisabeth Vilhelmina Berg)       3  11.1333   \n",
       "9                  Nasser, Mrs. Nicholas (Adele Achem)       2  30.0708   \n",
       "..                                                 ...     ...      ...   \n",
       "875                   Najib, Miss. Adele Kiamie \"Jane\"       3   7.2250   \n",
       "879      Potter, Mrs. Thomas Jr (Lily Alexenia Wilson)       1  83.1583   \n",
       "880       Shelley, Mrs. William (Imanita Parrish Hall)       2  26.0000   \n",
       "887                       Graham, Miss. Margaret Edith       1  30.0000   \n",
       "889                              Behr, Mr. Karl Howell       1  30.0000   \n",
       "\n",
       "     Survived  \n",
       "1           1  \n",
       "2           1  \n",
       "3           1  \n",
       "8           1  \n",
       "9           1  \n",
       "..        ...  \n",
       "875         1  \n",
       "879         1  \n",
       "880         1  \n",
       "887         1  \n",
       "889         1  \n",
       "\n",
       "[342 rows x 4 columns]"
      ]
     },
     "execution_count": 42,
     "metadata": {},
     "output_type": "execute_result"
    }
   ],
   "source": [
    "new_df = df[['Name', 'Pclass', 'Fare','Survived']][df['Survived'] == 1]\n",
    "new_df"
   ]
  },
  {
   "attachments": {},
   "cell_type": "markdown",
   "id": "582e13b4",
   "metadata": {},
   "source": [
    "#### 3.2 위의 생존자 데이터를 활용해서 구명보트에 태울 사람을 1명을 뽑는 함수를 만들고자 합니다. 함수가 실행될 때 마다 임의의 사람 이름이 출력되어야 합니다 (5점)"
   ]
  },
  {
   "cell_type": "code",
   "execution_count": 61,
   "id": "f2369c14",
   "metadata": {},
   "outputs": [],
   "source": [
    "def pop_people():\n",
    "    \n",
    "    # 내용 입력\n",
    "    length =new_df.shape[0]\n",
    "    rand_num=np.random.randint(0,length)\n",
    "    name=new_df.iloc[rand_num][\"Name\"]\n",
    "    print(f\"축하합니다! {name} 가 구명보트에 탑승합니다.\")"
   ]
  },
  {
   "attachments": {},
   "cell_type": "markdown",
   "id": "8cbff822",
   "metadata": {},
   "source": [
    "위 함수가 실행되면 아래처럼 출력이 되어야 합니다. "
   ]
  },
  {
   "cell_type": "code",
   "execution_count": 68,
   "id": "e17e05d7",
   "metadata": {},
   "outputs": [
    {
     "name": "stdout",
     "output_type": "stream",
     "text": [
      "축하합니다! Bissette, Miss. Amelia 가 구명보트에 탑승합니다.\n"
     ]
    }
   ],
   "source": [
    "pop_people()"
   ]
  },
  {
   "attachments": {},
   "cell_type": "markdown",
   "id": "e274a711",
   "metadata": {},
   "source": [
    "#### 3.3 위의 함수를 반복적으로 5번 실행하여 아래 `people_list`에 보트에 탑승할 5명의 사람의 이름을 넣어봅시다. (5점) \n",
    "\n",
    "> 주의할 점은 한번 당첨이 되어 보트에 탑승했다면 그 사람은 다시 뽑히지 않도록 해주어야 합니다.  \n",
    "> Hint: `append` method를 활용해야 합니다.  \n",
    "> Hint: `isin` 을 활용해 `people_list`에 있는 사람들을 기존 데이터에서 제거한 후 랜덤 출력을 해주어야 합니다. "
   ]
  },
  {
   "cell_type": "code",
   "execution_count": 1,
   "id": "216dcc4f",
   "metadata": {},
   "outputs": [],
   "source": [
    "people_list = []\n",
    "\n",
    "def pop_people_update():\n",
    "    \n",
    "    # 내용 입력\n",
    "    for i in range(5):\n",
    "        length =new_df.shape[0]\n",
    "        rand_num=np.random.randint(0,length)\n",
    "        name=new_df.iloc[rand_num][\"Name\"]\n",
    "        people_list.append(name)\n",
    "        #list_series = pd.Series(people_list)\n",
    "        #if list_series.isin([people_list]):\n",
    "        #   people_list.drop(name)\n",
    "    print(f\"축하합니다! {name} 가 구명보트에 탑승합니다.\")"
   ]
  },
  {
   "cell_type": "code",
   "execution_count": 2,
   "id": "484dfd23",
   "metadata": {},
   "outputs": [
    {
     "ename": "NameError",
     "evalue": "name 'new_df' is not defined",
     "output_type": "error",
     "traceback": [
      "\u001b[1;31m---------------------------------------------------------------------------\u001b[0m",
      "\u001b[1;31mNameError\u001b[0m                                 Traceback (most recent call last)",
      "\u001b[1;32mc:\\Users\\kr937\\Desktop\\drive\\2023\\Pyrhon 심화\\Final-exam\\20202801_이강륜.ipynb Cell 26\u001b[0m in \u001b[0;36m<cell line: 1>\u001b[1;34m()\u001b[0m\n\u001b[1;32m----> <a href='vscode-notebook-cell:/c%3A/Users/kr937/Desktop/drive/2023/Pyrhon%20%EC%8B%AC%ED%99%94/Final-exam/20202801_%EC%9D%B4%EA%B0%95%EB%A5%9C.ipynb#X34sZmlsZQ%3D%3D?line=0'>1</a>\u001b[0m pop_people_update()\n",
      "\u001b[1;32mc:\\Users\\kr937\\Desktop\\drive\\2023\\Pyrhon 심화\\Final-exam\\20202801_이강륜.ipynb Cell 26\u001b[0m in \u001b[0;36mpop_people_update\u001b[1;34m()\u001b[0m\n\u001b[0;32m      <a href='vscode-notebook-cell:/c%3A/Users/kr937/Desktop/drive/2023/Pyrhon%20%EC%8B%AC%ED%99%94/Final-exam/20202801_%EC%9D%B4%EA%B0%95%EB%A5%9C.ipynb#X34sZmlsZQ%3D%3D?line=2'>3</a>\u001b[0m \u001b[39mdef\u001b[39;00m \u001b[39mpop_people_update\u001b[39m():\n\u001b[0;32m      <a href='vscode-notebook-cell:/c%3A/Users/kr937/Desktop/drive/2023/Pyrhon%20%EC%8B%AC%ED%99%94/Final-exam/20202801_%EC%9D%B4%EA%B0%95%EB%A5%9C.ipynb#X34sZmlsZQ%3D%3D?line=3'>4</a>\u001b[0m     \n\u001b[0;32m      <a href='vscode-notebook-cell:/c%3A/Users/kr937/Desktop/drive/2023/Pyrhon%20%EC%8B%AC%ED%99%94/Final-exam/20202801_%EC%9D%B4%EA%B0%95%EB%A5%9C.ipynb#X34sZmlsZQ%3D%3D?line=4'>5</a>\u001b[0m     \u001b[39m# 내용 입력\u001b[39;00m\n\u001b[0;32m      <a href='vscode-notebook-cell:/c%3A/Users/kr937/Desktop/drive/2023/Pyrhon%20%EC%8B%AC%ED%99%94/Final-exam/20202801_%EC%9D%B4%EA%B0%95%EB%A5%9C.ipynb#X34sZmlsZQ%3D%3D?line=5'>6</a>\u001b[0m     \u001b[39mfor\u001b[39;00m i \u001b[39min\u001b[39;00m \u001b[39mrange\u001b[39m(\u001b[39m5\u001b[39m):\n\u001b[1;32m----> <a href='vscode-notebook-cell:/c%3A/Users/kr937/Desktop/drive/2023/Pyrhon%20%EC%8B%AC%ED%99%94/Final-exam/20202801_%EC%9D%B4%EA%B0%95%EB%A5%9C.ipynb#X34sZmlsZQ%3D%3D?line=6'>7</a>\u001b[0m         length \u001b[39m=\u001b[39mnew_df\u001b[39m.\u001b[39mshape[\u001b[39m0\u001b[39m]\n\u001b[0;32m      <a href='vscode-notebook-cell:/c%3A/Users/kr937/Desktop/drive/2023/Pyrhon%20%EC%8B%AC%ED%99%94/Final-exam/20202801_%EC%9D%B4%EA%B0%95%EB%A5%9C.ipynb#X34sZmlsZQ%3D%3D?line=7'>8</a>\u001b[0m         rand_num\u001b[39m=\u001b[39mnp\u001b[39m.\u001b[39mrandom\u001b[39m.\u001b[39mrandint(\u001b[39m0\u001b[39m,length)\n\u001b[0;32m      <a href='vscode-notebook-cell:/c%3A/Users/kr937/Desktop/drive/2023/Pyrhon%20%EC%8B%AC%ED%99%94/Final-exam/20202801_%EC%9D%B4%EA%B0%95%EB%A5%9C.ipynb#X34sZmlsZQ%3D%3D?line=8'>9</a>\u001b[0m         name\u001b[39m=\u001b[39mnew_df\u001b[39m.\u001b[39miloc[rand_num][\u001b[39m\"\u001b[39m\u001b[39mName\u001b[39m\u001b[39m\"\u001b[39m]\n",
      "\u001b[1;31mNameError\u001b[0m: name 'new_df' is not defined"
     ]
    }
   ],
   "source": [
    "pop_people_update()"
   ]
  },
  {
   "cell_type": "code",
   "execution_count": null,
   "id": "bc6dbd33",
   "metadata": {},
   "outputs": [
    {
     "data": {
      "text/plain": [
       "['Beesley, Mr. Lawrence',\n",
       " 'Johnson, Master. Harold Theodor',\n",
       " 'Moubarek, Master. Halim Gonios (\"William George\")',\n",
       " 'Duff Gordon, Sir. Cosmo Edmund (\"Mr Morgan\")',\n",
       " 'Bjornstrom-Steffansson, Mr. Mauritz Hakan']"
      ]
     },
     "execution_count": 192,
     "metadata": {},
     "output_type": "execute_result"
    }
   ],
   "source": [
    "people_list"
   ]
  }
 ],
 "metadata": {
  "kernelspec": {
   "display_name": "Python 3 (ipykernel)",
   "language": "python",
   "name": "python3"
  },
  "language_info": {
   "codemirror_mode": {
    "name": "ipython",
    "version": 3
   },
   "file_extension": ".py",
   "mimetype": "text/x-python",
   "name": "python",
   "nbconvert_exporter": "python",
   "pygments_lexer": "ipython3",
   "version": "3.9.12"
  }
 },
 "nbformat": 4,
 "nbformat_minor": 5
}
