{
 "cells": [
  {
   "cell_type": "code",
   "execution_count": 2,
   "id": "a3689fe8",
   "metadata": {},
   "outputs": [],
   "source": [
    "import numpy as np"
   ]
  },
  {
   "attachments": {},
   "cell_type": "markdown",
   "id": "f42b85f2",
   "metadata": {},
   "source": [
    "## 1. (각 3점)\n",
    "\n",
    "(1) 다음과 같은 List가 있다고 할 때 해당 List의 끝에 60이란 숫자를 추가하시오"
   ]
  },
  {
   "cell_type": "code",
   "execution_count": 5,
   "id": "44b0b531",
   "metadata": {},
   "outputs": [
    {
     "data": {
      "text/plain": [
       "[10, 20, 30, 40, 50]"
      ]
     },
     "execution_count": 5,
     "metadata": {},
     "output_type": "execute_result"
    }
   ],
   "source": [
    "a = [10, 20, 30, 40, 50]\n",
    "a"
   ]
  },
  {
   "cell_type": "code",
   "execution_count": 6,
   "id": "7fdf2f6b",
   "metadata": {},
   "outputs": [
    {
     "data": {
      "text/plain": [
       "[10, 20, 30, 40, 50, 60]"
      ]
     },
     "execution_count": 6,
     "metadata": {},
     "output_type": "execute_result"
    }
   ],
   "source": [
    "a.append(60)\n",
    "a"
   ]
  },
  {
   "attachments": {},
   "cell_type": "markdown",
   "id": "d8e078a5",
   "metadata": {},
   "source": [
    "(2) 다음과 같은 lista가 있다고 할 때 숫자 10 전의 모든 합을 계산하는 코드를 작성하시오"
   ]
  },
  {
   "cell_type": "code",
   "execution_count": 8,
   "id": "780a65ff",
   "metadata": {},
   "outputs": [],
   "source": [
    "sequence = [1, 2, 0, 4, 6, 5, 2, 1, 10, 15, 7, 100]"
   ]
  },
  {
   "cell_type": "code",
   "execution_count": 25,
   "id": "d6b2fbbe",
   "metadata": {},
   "outputs": [],
   "source": [
    "result = 0\n",
    "for i in sequence:\n",
    "    if i == 10:\n",
    "        break\n",
    "    result += i"
   ]
  },
  {
   "cell_type": "code",
   "execution_count": 26,
   "id": "109a4bf1",
   "metadata": {},
   "outputs": [
    {
     "data": {
      "text/plain": [
       "21"
      ]
     },
     "execution_count": 26,
     "metadata": {},
     "output_type": "execute_result"
    }
   ],
   "source": [
    "result"
   ]
  },
  {
   "attachments": {},
   "cell_type": "markdown",
   "id": "0c4d7dce",
   "metadata": {},
   "source": [
    "## 2. (3점)\n",
    "\n",
    "다음과 같은 사람의 이름(cast)과 이 사람의 키(heights)를 나타내는 List가 있다고 할 때, 앞 글자가 B로 시작하는 사람의 키(heights)를 이름을 Key로 하고 키(heights)값을 value로 하는 dictionary로 추출하는 코드를 작성히시오"
   ]
  },
  {
   "cell_type": "code",
   "execution_count": 18,
   "id": "c682a7de",
   "metadata": {},
   "outputs": [],
   "source": [
    "cast = [\"Barney Stinson\", \"Robin Scherbatsky\", \"Ted Mosby\", \"Lily Aldrin\", \"Marshall Eriksen\", \"Bob\"]\n",
    "heights = [72, 68, 72, 66, 76, 80]"
   ]
  },
  {
   "cell_type": "code",
   "execution_count": 1,
   "id": "4b4e0afa",
   "metadata": {},
   "outputs": [
    {
     "name": "stdout",
     "output_type": "stream",
     "text": [
      "{'Barney Stinson': 72, 'Bob': 80}\n"
     ]
    }
   ],
   "source": [
    "cast = [\"Barney Stinson\", \"Robin Scherbatsky\", \"Ted Mosby\", \"Lily Aldrin\", \"Marshall Eriksen\", \"Bob\"]\n",
    "heights = [72, 68, 72, 66, 76, 80]\n",
    "\n",
    "heights_dict = {}\n",
    "\n",
    "for i in range(len(cast)):\n",
    "    if cast[i][0] == 'B':\n",
    "        heights_dict[cast[i]] = heights[i]\n",
    "\n",
    "print(heights_dict)\n"
   ]
  },
  {
   "cell_type": "code",
   "execution_count": 12,
   "id": "0e26d1df",
   "metadata": {},
   "outputs": [],
   "source": [
    "import itertools"
   ]
  },
  {
   "attachments": {},
   "cell_type": "markdown",
   "id": "fc2b4bc2",
   "metadata": {},
   "source": [
    "## 3. (3점)\n",
    "아래 `sequence` object의 합을 계산하는 코드를 작성하시오"
   ]
  },
  {
   "cell_type": "code",
   "execution_count": 3,
   "id": "33f602f8",
   "metadata": {},
   "outputs": [],
   "source": [
    "sequence = [1, 2, None, 4, None, 5, 6, 8, 9, 10]"
   ]
  },
  {
   "cell_type": "code",
   "execution_count": 6,
   "id": "325d1ca9",
   "metadata": {},
   "outputs": [
    {
     "data": {
      "text/plain": [
       "45"
      ]
     },
     "execution_count": 6,
     "metadata": {},
     "output_type": "execute_result"
    }
   ],
   "source": [
    "result = 0\n",
    "for i in sequence:\n",
    "    if i == None:\n",
    "        continue\n",
    "    result += i\n",
    "result"
   ]
  },
  {
   "attachments": {},
   "cell_type": "markdown",
   "id": "a64c1434",
   "metadata": {},
   "source": [
    "## 4. (3점)\n",
    "다음과 같은 농구선수의 나이와 키를 담은 dictionary가 주어질 때 아래 물음에 답하시오\n"
   ]
  },
  {
   "cell_type": "code",
   "execution_count": 7,
   "id": "c0289c0b",
   "metadata": {},
   "outputs": [],
   "source": [
    "basket = {'Paul':[36, 183], 'James': [37, 206], 'Durant': [33, 208], 'Trae': [23, 185], 'Harden': [32, 196]}"
   ]
  },
  {
   "attachments": {},
   "cell_type": "markdown",
   "id": "526fae11",
   "metadata": {},
   "source": [
    "키가 200 이상이면서 나이가 35세 이하인 선수의 이름을 추출하는 코드를 작성하시오"
   ]
  },
  {
   "cell_type": "code",
   "execution_count": 8,
   "id": "b2504a4d",
   "metadata": {},
   "outputs": [
    {
     "name": "stdout",
     "output_type": "stream",
     "text": [
      "Paul\n",
      "James\n",
      "Durant\n",
      "Trae\n",
      "Harden\n"
     ]
    }
   ],
   "source": [
    "for name in basket:\n",
    "    print(name)\n",
    "    "
   ]
  },
  {
   "cell_type": "code",
   "execution_count": 10,
   "id": "4645a3f7",
   "metadata": {},
   "outputs": [
    {
     "data": {
      "text/plain": [
       "['Durant']"
      ]
     },
     "execution_count": 10,
     "metadata": {},
     "output_type": "execute_result"
    }
   ],
   "source": [
    "player = []\n",
    "for name in basket:\n",
    "    mask = (basket[name][0] <= 35)&(basket[name][1] >= 200)\n",
    "    if mask:\n",
    "        player.append(name)\n",
    "player"
   ]
  },
  {
   "attachments": {},
   "cell_type": "markdown",
   "id": "491d26b0",
   "metadata": {},
   "source": [
    "## 5. Dictionary (3점)\n",
    "다음과 같은 list가 있다고 했을 때 이 List를 dictionary 형태로 변환해 보시오\n",
    "\n",
    "출력결과물\n",
    "\n",
    "```python\n",
    "{0: 'apple', 1: 'banana', 2: 'grapes', 3: 'pear'}\n",
    "```"
   ]
  },
  {
   "cell_type": "code",
   "execution_count": 11,
   "id": "0bf03c94",
   "metadata": {},
   "outputs": [],
   "source": [
    "my_list = ['apple', 'banana', 'grapes', 'pear']"
   ]
  },
  {
   "cell_type": "code",
   "execution_count": 14,
   "id": "03cb2043",
   "metadata": {},
   "outputs": [
    {
     "data": {
      "text/plain": [
       "{0: 'apple', 1: 'banana', 2: 'grapes', 3: 'pear'}"
      ]
     },
     "execution_count": 14,
     "metadata": {},
     "output_type": "execute_result"
    }
   ],
   "source": [
    "new_dict = {}\n",
    "for i,j in enumerate(my_list):\n",
    "    new_dict[i] = j\n",
    "new_dict"
   ]
  },
  {
   "attachments": {},
   "cell_type": "markdown",
   "id": "ec3a4ae8",
   "metadata": {},
   "source": [
    "## 6. Numpy - 각 3점씩"
   ]
  },
  {
   "attachments": {},
   "cell_type": "markdown",
   "id": "2709f0c4",
   "metadata": {},
   "source": [
    "1) 0에서부터 29까지의 숫자가 순서대로 들어간 3x10 matrix를 만들어 보시오. 최종 결과물은 아래와 같습니다 "
   ]
  },
  {
   "cell_type": "code",
   "execution_count": 51,
   "id": "8a5e62f7",
   "metadata": {},
   "outputs": [
    {
     "data": {
      "text/plain": [
       "array([[ 0,  1,  2,  3,  4,  5,  6,  7,  8,  9],\n",
       "       [10, 11, 12, 13, 14, 15, 16, 17, 18, 19],\n",
       "       [20, 21, 22, 23, 24, 25, 26, 27, 28, 29]])"
      ]
     },
     "execution_count": 51,
     "metadata": {},
     "output_type": "execute_result"
    }
   ],
   "source": []
  },
  {
   "attachments": {},
   "cell_type": "markdown",
   "id": "2b4ddac4",
   "metadata": {},
   "source": [
    "2) 1)에서 생성한 array의 모든 element에 10을 곱한 후 5를 더한 새로운 array를 생성히시오"
   ]
  },
  {
   "cell_type": "code",
   "execution_count": null,
   "id": "c284b05b",
   "metadata": {},
   "outputs": [],
   "source": []
  },
  {
   "attachments": {},
   "cell_type": "markdown",
   "id": "c02ccf35",
   "metadata": {},
   "source": [
    "3) 1)에서 생성한 array에서 10보다 크거나 같은 모든 원소들을 999로 변환하는 코드를 작성하시오\n"
   ]
  },
  {
   "cell_type": "code",
   "execution_count": null,
   "id": "e4de25d3",
   "metadata": {},
   "outputs": [],
   "source": []
  },
  {
   "attachments": {},
   "cell_type": "markdown",
   "id": "e79b1ced",
   "metadata": {},
   "source": [
    "4) 1) 에서 생성한 array에서 20보다 크거나 같은 값들만 7을 빼주는 코드를 작성하시오"
   ]
  },
  {
   "cell_type": "code",
   "execution_count": null,
   "id": "0c1af66a",
   "metadata": {},
   "outputs": [],
   "source": []
  }
 ],
 "metadata": {
  "kernelspec": {
   "display_name": "Python 3 (ipykernel)",
   "language": "python",
   "name": "python3"
  },
  "language_info": {
   "codemirror_mode": {
    "name": "ipython",
    "version": 3
   },
   "file_extension": ".py",
   "mimetype": "text/x-python",
   "name": "python",
   "nbconvert_exporter": "python",
   "pygments_lexer": "ipython3",
   "version": "3.10.7"
  }
 },
 "nbformat": 4,
 "nbformat_minor": 5
}
