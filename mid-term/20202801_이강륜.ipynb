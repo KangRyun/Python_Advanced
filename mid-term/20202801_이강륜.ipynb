{
 "cells": [
  {
   "cell_type": "code",
   "execution_count": 1,
   "id": "a3689fe8",
   "metadata": {},
   "outputs": [],
   "source": [
    "import numpy as np"
   ]
  },
  {
   "attachments": {},
   "cell_type": "markdown",
   "id": "f42b85f2",
   "metadata": {},
   "source": [
    "## 1. (각 4점)\n",
    "\n",
    "(1) 다음과 같은 List가 있다고 할 때 해당 List의 끝에 60이란 숫자를 추가하시오"
   ]
  },
  {
   "cell_type": "code",
   "execution_count": 5,
   "id": "44b0b531",
   "metadata": {},
   "outputs": [
    {
     "data": {
      "text/plain": [
       "[10, 20, 30, 40, 50]"
      ]
     },
     "execution_count": 5,
     "metadata": {},
     "output_type": "execute_result"
    }
   ],
   "source": [
    "a = [10, 20, 30, 40, 50]\n",
    "a"
   ]
  },
  {
   "cell_type": "code",
   "execution_count": 6,
   "id": "6f8aae0b",
   "metadata": {},
   "outputs": [
    {
     "data": {
      "text/plain": [
       "[10, 20, 30, 40, 50, 60]"
      ]
     },
     "execution_count": 6,
     "metadata": {},
     "output_type": "execute_result"
    }
   ],
   "source": [
    "a.append(60)\n",
    "a"
   ]
  },
  {
   "attachments": {},
   "cell_type": "markdown",
   "id": "d8e078a5",
   "metadata": {},
   "source": [
    "(2) 다음과 같은 list가 있다고 할 때 숫자 10 전의 모든 합을 계산하는 코드를 작성하시오"
   ]
  },
  {
   "cell_type": "code",
   "execution_count": 7,
   "id": "780a65ff",
   "metadata": {},
   "outputs": [
    {
     "data": {
      "text/plain": [
       "21"
      ]
     },
     "execution_count": 7,
     "metadata": {},
     "output_type": "execute_result"
    }
   ],
   "source": [
    "sequence = [1, 2, 0, 4, 6, 5, 2, 1, 10, 15, 7, 100]\n",
    "result = 0\n",
    "for i in sequence:\n",
    "    if i == 10:\n",
    "        break\n",
    "    result += i\n",
    "result"
   ]
  },
  {
   "attachments": {},
   "cell_type": "markdown",
   "id": "0c4d7dce",
   "metadata": {},
   "source": [
    "## 2. (4점)\n",
    "\n",
    "다음과 같은 사람의 이름(cast)과 이 사람의 키(heights)를 나타내는 List가 있다고 할 때, 앞 글자가 B로 시작하는 사람의 이름을 Key로 하고 키(heights)값을 value로 하는 dictionary로 추출하는 코드를 작성히시오"
   ]
  },
  {
   "cell_type": "code",
   "execution_count": 86,
   "id": "c682a7de",
   "metadata": {},
   "outputs": [],
   "source": [
    "cast = [\"Barney Stinson\", \"Robin Scherbatsky\", \"Ted Mosby\", \"Lily Aldrin\", \"Marshall Eriksen\", \"Bob\"]\n",
    "heights = [72, 68, 72, 66, 76, 80]"
   ]
  },
  {
   "cell_type": "code",
   "execution_count": 8,
   "id": "2a0d3652",
   "metadata": {},
   "outputs": [
    {
     "name": "stdout",
     "output_type": "stream",
     "text": [
      "{'Barney Stinson': 72, 'Bob': 80}\n"
     ]
    }
   ],
   "source": [
    "cast = [\"Barney Stinson\", \"Robin Scherbatsky\", \"Ted Mosby\", \"Lily Aldrin\", \"Marshall Eriksen\", \"Bob\"]\n",
    "heights = [72, 68, 72, 66, 76, 80]\n",
    "\n",
    "heights_dict = {}\n",
    "\n",
    "for i in range(len(cast)):\n",
    "    if cast[i][0] == 'B':\n",
    "        heights_dict[cast[i]] = heights[i]\n",
    "\n",
    "print(heights_dict)\n"
   ]
  },
  {
   "attachments": {},
   "cell_type": "markdown",
   "id": "fc2b4bc2",
   "metadata": {},
   "source": [
    "## 3. (4점)\n",
    "아래 `sequence` object의 합을 계산하는 코드를 작성하시오"
   ]
  },
  {
   "cell_type": "code",
   "execution_count": 9,
   "id": "33f602f8",
   "metadata": {},
   "outputs": [
    {
     "data": {
      "text/plain": [
       "45"
      ]
     },
     "execution_count": 9,
     "metadata": {},
     "output_type": "execute_result"
    }
   ],
   "source": [
    "sequence = [1, 2, None, 4, None, 5, 6, 8, 9, 10]\n",
    "result = 0\n",
    "for i in sequence:\n",
    "    if i == None:\n",
    "        continue\n",
    "    result += i\n",
    "result"
   ]
  },
  {
   "attachments": {},
   "cell_type": "markdown",
   "id": "a64c1434",
   "metadata": {},
   "source": [
    "## 4. (4점)\n",
    "다음과 같은 농구선수의 나이와 키를 담은 dictionary가 주어질 때 아래 물음에 답하시오\n"
   ]
  },
  {
   "cell_type": "code",
   "execution_count": 11,
   "id": "c0289c0b",
   "metadata": {},
   "outputs": [],
   "source": [
    "basket = {'Paul':[36, 183], 'James': [37, 206], 'Durant': [33, 208], 'Trae': [23, 185], 'Harden': [32, 196]}"
   ]
  },
  {
   "attachments": {},
   "cell_type": "markdown",
   "id": "526fae11",
   "metadata": {},
   "source": [
    "키가 200 이상이면서 나이가 35세 이하인 선수의 이름을 추출하는 코드를 작성하시오"
   ]
  },
  {
   "cell_type": "code",
   "execution_count": 12,
   "id": "fada265c",
   "metadata": {},
   "outputs": [
    {
     "data": {
      "text/plain": [
       "['Durant']"
      ]
     },
     "execution_count": 12,
     "metadata": {},
     "output_type": "execute_result"
    }
   ],
   "source": [
    "player = []\n",
    "for name in basket:\n",
    "    mask = (basket[name][0] <= 35)&(basket[name][1] >= 200)\n",
    "    if mask:\n",
    "        player.append(name)\n",
    "player"
   ]
  },
  {
   "attachments": {},
   "cell_type": "markdown",
   "id": "491d26b0",
   "metadata": {},
   "source": [
    "## 5. Dictionary (3점)\n",
    "다음과 같은 list가 있다고 했을 때 이 List를 dictionary 형태로 변환해 보시오\n",
    "\n",
    "출력결과물은 아래와 같아야 합니다. \n",
    "\n",
    "```python\n",
    "{0: 'apple', 1: 'banana', 2: 'grapes', 3: 'pear'}\n",
    "```"
   ]
  },
  {
   "cell_type": "code",
   "execution_count": 13,
   "id": "0bf03c94",
   "metadata": {},
   "outputs": [
    {
     "data": {
      "text/plain": [
       "{0: 'apple', 1: 'banana', 2: 'grapes', 3: 'pear'}"
      ]
     },
     "execution_count": 13,
     "metadata": {},
     "output_type": "execute_result"
    }
   ],
   "source": [
    "my_list = ['apple', 'banana', 'grapes', 'pear']\n",
    "new_dict = {}\n",
    "for i,j in enumerate(my_list):\n",
    "    new_dict[i] = j\n",
    "new_dict"
   ]
  },
  {
   "attachments": {},
   "cell_type": "markdown",
   "id": "8c2d255b",
   "metadata": {},
   "source": [
    "## 5. 다음 list를 가지고, 첫글자가 M으로 시작하는 사람 이름만을 뽑아 새로운 List로 할당하는 코드를 작성하시오 (4점)"
   ]
  },
  {
   "cell_type": "code",
   "execution_count": 1,
   "id": "66d425fd",
   "metadata": {},
   "outputs": [],
   "source": [
    "name_data = [['John', 'Emily', 'Michael', 'Mary', 'Steven'],\n",
    "             ['Maria', 'Juan', 'Javier', 'Natalia', 'Pilar']]"
   ]
  },
  {
   "cell_type": "code",
   "execution_count": 12,
   "id": "ca04ad83",
   "metadata": {},
   "outputs": [
    {
     "data": {
      "text/plain": [
       "['Michael', 'Mary', 'Maria']"
      ]
     },
     "execution_count": 12,
     "metadata": {},
     "output_type": "execute_result"
    }
   ],
   "source": [
    "new = []\n",
    "for i in name_data:\n",
    "    for name in i:\n",
    "        if name[0] == 'M':\n",
    "            new.append(name)\n",
    "new\n",
    "            "
   ]
  },
  {
   "attachments": {},
   "cell_type": "markdown",
   "id": "cbba3221",
   "metadata": {},
   "source": [
    "## 6. 아래 list 안에 있는 모든 숫자를 element로 하는 list를 만들어보시오. (5점)\n",
    "\n",
    "정답은 아래와 같이 출력이 되어야 합니다.  \n",
    "Hint: List comprehension을 사용하면 쉽게 만들 수 있습니다. list comprehension 안에 for loop를 몇번 사용해야 할지 생각해 보세요.\n",
    "\n",
    "```python\n",
    "[1,2,3,4,5,6,7,8,9,10,11,12]\n",
    "```"
   ]
  },
  {
   "cell_type": "code",
   "execution_count": 1,
   "id": "da8fb762",
   "metadata": {},
   "outputs": [],
   "source": [
    "nested_list = [[(1, 2), (3, 4)], [(5, 6), (7, 8)], [(9,10),(11,12)]]"
   ]
  },
  {
   "cell_type": "code",
   "execution_count": null,
   "id": "b93beae8",
   "metadata": {},
   "outputs": [],
   "source": [
    "# 3. \n",
    "some_tuples = [(1, 2, 3), (4, 5, 6), (7, 8, 9)]\n",
    "flattened = [x for tup in some_tuples for x in tup]\n",
    "flattened"
   ]
  },
  {
   "cell_type": "code",
   "execution_count": 30,
   "id": "726f6de1",
   "metadata": {},
   "outputs": [
    {
     "data": {
      "text/plain": [
       "[1, 2, 3, 4, 5, 6, 7, 8, 9, 10, 11, 12]"
      ]
     },
     "execution_count": 30,
     "metadata": {},
     "output_type": "execute_result"
    }
   ],
   "source": [
    "list_com = [x for lst in nested_list for tup in lst for x in tup]\n",
    "list_com"
   ]
  },
  {
   "attachments": {},
   "cell_type": "markdown",
   "id": "8246561f",
   "metadata": {},
   "source": [
    "## 7. 다음과 같은 list가 있습니다. `map` 메서드와 `function`을 이용하여 아래 질문에 답해보세요. (5점)"
   ]
  },
  {
   "attachments": {},
   "cell_type": "markdown",
   "id": "262211a2",
   "metadata": {},
   "source": [
    "1) 짝수인 숫자는 2배를 하고, 홀수인 숫자는 10을 빼주는 함수를 만들어보세요."
   ]
  },
  {
   "cell_type": "code",
   "execution_count": 36,
   "id": "fe145658",
   "metadata": {},
   "outputs": [],
   "source": [
    "def mul_func(v):\n",
    "    result = []\n",
    "    for i in v:\n",
    "        if i % 2 == 1:\n",
    "            result.append(i-10)\n",
    "        else:\n",
    "            result.append(i*2)\n",
    "    return(result)"
   ]
  },
  {
   "cell_type": "code",
   "execution_count": 39,
   "id": "96438f83",
   "metadata": {},
   "outputs": [],
   "source": [
    "# map 함수 이용\n",
    "def a_1(n):\n",
    "    if n % 2  == 0:\n",
    "        n = n*2\n",
    "    else:\n",
    "        n = n-10\n",
    "    return n\n"
   ]
  },
  {
   "attachments": {},
   "cell_type": "markdown",
   "id": "249f2830",
   "metadata": {},
   "source": [
    "2) 위에서 정의한 function을 활용해서 아래 list의 각 element에 해당 함수를 적용한 결과를 출력해 보세요."
   ]
  },
  {
   "cell_type": "code",
   "execution_count": 41,
   "id": "d1bc0cc5",
   "metadata": {},
   "outputs": [],
   "source": [
    "my_list = [1,2,3,4,5,6,7,8,9,10,11,12,13,14,15,16,17,18,19,20]"
   ]
  },
  {
   "cell_type": "code",
   "execution_count": 43,
   "id": "a78e5e6b",
   "metadata": {},
   "outputs": [
    {
     "data": {
      "text/plain": [
       "[-9, 4, -7, 8, -5, 12, -3, 16, -1, 20, 1, 24, 3, 28, 5, 32, 7, 36, 9, 40]"
      ]
     },
     "execution_count": 43,
     "metadata": {},
     "output_type": "execute_result"
    }
   ],
   "source": [
    "mul_func(my_list)"
   ]
  },
  {
   "cell_type": "code",
   "execution_count": 42,
   "id": "d5ae0dfc",
   "metadata": {},
   "outputs": [
    {
     "name": "stdout",
     "output_type": "stream",
     "text": [
      "[-9, 4, -7, 8, -5, 12, -3, 16, -1, 20, 1, 24, 3, 28, 5, 32, 7, 36, 9, 40]\n"
     ]
    }
   ],
   "source": [
    "result = list(map(a_1, my_list))  # map반환을 list 로 변환\n",
    "print(result)"
   ]
  },
  {
   "attachments": {},
   "cell_type": "markdown",
   "id": "2e660537",
   "metadata": {},
   "source": [
    "my_list = [1,2,3,4,5,6,7,8,9,10,11,12,13,14,15,16,17,18,19,20]"
   ]
  }
 ],
 "metadata": {
  "kernelspec": {
   "display_name": "Python 3 (ipykernel)",
   "language": "python",
   "name": "python3"
  },
  "language_info": {
   "codemirror_mode": {
    "name": "ipython",
    "version": 3
   },
   "file_extension": ".py",
   "mimetype": "text/x-python",
   "name": "python",
   "nbconvert_exporter": "python",
   "pygments_lexer": "ipython3",
   "version": "3.10.7"
  }
 },
 "nbformat": 4,
 "nbformat_minor": 5
}
