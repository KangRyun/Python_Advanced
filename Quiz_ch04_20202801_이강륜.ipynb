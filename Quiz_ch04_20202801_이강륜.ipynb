{
 "cells": [
  {
   "cell_type": "code",
   "execution_count": 4,
   "id": "17748436",
   "metadata": {},
   "outputs": [],
   "source": [
    "import numpy as np"
   ]
  },
  {
   "attachments": {},
   "cell_type": "markdown",
   "id": "a9770c36",
   "metadata": {},
   "source": [
    "### 1. Numpy Basics (각 1점씩)"
   ]
  },
  {
   "attachments": {},
   "cell_type": "markdown",
   "id": "50f34665",
   "metadata": {},
   "source": [
    "(1) 다음과 같은 3차원의 array가 있다고 합시다.  \n",
    "기존의 형태를 유지하면서 10보다 크거나 같은 값들을 0으로 바꾸는 코드를 작성해봅시다"
   ]
  },
  {
   "cell_type": "code",
   "execution_count": 5,
   "id": "1df8555f",
   "metadata": {},
   "outputs": [
    {
     "data": {
      "text/plain": [
       "array([[[ 0,  1,  2,  3],\n",
       "        [ 4,  5,  6,  7],\n",
       "        [ 8,  9, 10, 11]],\n",
       "\n",
       "       [[12, 13, 14, 15],\n",
       "        [16, 17, 18, 19],\n",
       "        [20, 21, 22, 23]]])"
      ]
     },
     "execution_count": 5,
     "metadata": {},
     "output_type": "execute_result"
    }
   ],
   "source": [
    "c=np.arange(24).reshape(2,3,4)\n",
    "c"
   ]
  },
  {
   "cell_type": "code",
   "execution_count": 6,
   "id": "5d6c2e94",
   "metadata": {},
   "outputs": [
    {
     "data": {
      "text/plain": [
       "array([[[0, 1, 2, 3],\n",
       "        [4, 5, 6, 7],\n",
       "        [8, 9, 0, 0]],\n",
       "\n",
       "       [[0, 0, 0, 0],\n",
       "        [0, 0, 0, 0],\n",
       "        [0, 0, 0, 0]]])"
      ]
     },
     "execution_count": 6,
     "metadata": {},
     "output_type": "execute_result"
    }
   ],
   "source": [
    "np.where(c >= 10, 0, c)"
   ]
  },
  {
   "attachments": {},
   "cell_type": "markdown",
   "id": "84e8d0d5",
   "metadata": {},
   "source": [
    "(2) 아래의 6 by 4 Array를 가로축(행)과 세로축(열)에 대해서 더한(sum) 새로운 array 2개를 만들어 보시오  "
   ]
  },
  {
   "cell_type": "code",
   "execution_count": 8,
   "id": "46f82bc4",
   "metadata": {},
   "outputs": [
    {
     "data": {
      "text/plain": [
       "array([[ 0,  1,  2,  3],\n",
       "       [ 4,  5,  6,  7],\n",
       "       [ 8,  9, 10, 11],\n",
       "       [12, 13, 14, 15],\n",
       "       [16, 17, 18, 19],\n",
       "       [20, 21, 22, 23]])"
      ]
     },
     "execution_count": 8,
     "metadata": {},
     "output_type": "execute_result"
    }
   ],
   "source": [
    "arr=np.arange(24).reshape(6,4)\n",
    "arr"
   ]
  },
  {
   "cell_type": "code",
   "execution_count": 9,
   "id": "15aeb2c9",
   "metadata": {},
   "outputs": [
    {
     "data": {
      "text/plain": [
       "array([60, 66, 72, 78])"
      ]
     },
     "execution_count": 9,
     "metadata": {},
     "output_type": "execute_result"
    }
   ],
   "source": [
    "arr.sum(axis=0)"
   ]
  },
  {
   "cell_type": "code",
   "execution_count": 10,
   "id": "78def4d4",
   "metadata": {},
   "outputs": [
    {
     "data": {
      "text/plain": [
       "array([ 6, 22, 38, 54, 70, 86])"
      ]
     },
     "execution_count": 10,
     "metadata": {},
     "output_type": "execute_result"
    }
   ],
   "source": [
    "arr.sum(axis=1)"
   ]
  },
  {
   "attachments": {},
   "cell_type": "markdown",
   "id": "c323cf88",
   "metadata": {},
   "source": [
    "### 2. Random walks (각 1점씩)"
   ]
  },
  {
   "attachments": {},
   "cell_type": "markdown",
   "id": "fbafdea2",
   "metadata": {},
   "source": [
    "(1) 주사위를 던져서 1,2,3이 나오면 뒤로 한칸 가고, 4,5,6이 나오면 앞으로 한칸 가는 Random walkers를 100명 만들어보세요.  \n",
    "각각의 Random walker는 주사위를 총 500번씩 던집니다.  "
   ]
  },
  {
   "cell_type": "code",
   "execution_count": 2,
   "id": "00adf1d5",
   "metadata": {},
   "outputs": [],
   "source": [
    "import random"
   ]
  },
  {
   "cell_type": "code",
   "execution_count": 24,
   "id": "ea636c37",
   "metadata": {},
   "outputs": [
    {
     "data": {
      "text/plain": [
       "array([[ -1,   0,   1, ...,  24,  23,  24],\n",
       "       [ -1,  -2,  -3, ...,   6,   7,   8],\n",
       "       [  1,   2,   1, ..., -12, -13, -12],\n",
       "       ...,\n",
       "       [  1,   0,  -1, ...,   4,   3,   4],\n",
       "       [  1,   2,   3, ...,  26,  27,  28],\n",
       "       [  1,   0,  -1, ...,   2,   1,   2]], dtype=int32)"
      ]
     },
     "execution_count": 24,
     "metadata": {},
     "output_type": "execute_result"
    }
   ],
   "source": [
    "num_walkers = 100\n",
    "num_steps = 500\n",
    "\n",
    "\n",
    "dice_rolls = np.random.randint(1, 7, size=(num_walkers, num_steps))\n",
    "\n",
    "positions = np.where(dice_rolls <= 3, -1, 1)\n",
    "result = np.cumsum(positions, axis=1) \n",
    "result"
   ]
  },
  {
   "attachments": {},
   "cell_type": "markdown",
   "id": "052740bb",
   "metadata": {},
   "source": [
    "(2) 위에서 도출한 Random walkers 중, 가장 앞으로 많이 간 Walker와 뒤로 가장 많이 간 Walker의 step을 각각 출력하시오"
   ]
  },
  {
   "cell_type": "code",
   "execution_count": 15,
   "id": "b68af9af",
   "metadata": {},
   "outputs": [
    {
     "data": {
      "text/plain": [
       "61"
      ]
     },
     "execution_count": 15,
     "metadata": {},
     "output_type": "execute_result"
    }
   ],
   "source": [
    "result.max()"
   ]
  },
  {
   "cell_type": "code",
   "execution_count": 16,
   "id": "f8ef45af",
   "metadata": {},
   "outputs": [
    {
     "data": {
      "text/plain": [
       "-69"
      ]
     },
     "execution_count": 16,
     "metadata": {},
     "output_type": "execute_result"
    }
   ],
   "source": [
    "result.min()"
   ]
  },
  {
   "attachments": {},
   "cell_type": "markdown",
   "id": "c7dbef23",
   "metadata": {},
   "source": [
    "(3) 원점에서부터 +-50만큼 떨어진 거리에 도달한 Walker는 총 몇명입니까?"
   ]
  },
  {
   "cell_type": "code",
   "execution_count": 17,
   "id": "471e0a22",
   "metadata": {},
   "outputs": [
    {
     "data": {
      "text/plain": [
       "array([[False, False, False, ..., False, False, False],\n",
       "       [False, False, False, ..., False, False, False],\n",
       "       [False, False, False, ..., False, False, False],\n",
       "       ...,\n",
       "       [False, False, False, ..., False, False, False],\n",
       "       [False, False, False, ..., False, False, False],\n",
       "       [False, False, False, ..., False, False, False]])"
      ]
     },
     "execution_count": 17,
     "metadata": {},
     "output_type": "execute_result"
    }
   ],
   "source": [
    "np.abs(result)>=50"
   ]
  },
  {
   "cell_type": "code",
   "execution_count": 18,
   "id": "199f2a7f",
   "metadata": {},
   "outputs": [],
   "source": [
    "hits = (np.abs(result)>=50).any(axis=1)"
   ]
  },
  {
   "cell_type": "code",
   "execution_count": 19,
   "id": "601f6d21",
   "metadata": {},
   "outputs": [
    {
     "data": {
      "text/plain": [
       "6"
      ]
     },
     "execution_count": 19,
     "metadata": {},
     "output_type": "execute_result"
    }
   ],
   "source": [
    "hits.sum()"
   ]
  },
  {
   "cell_type": "code",
   "execution_count": 21,
   "id": "8e18f637",
   "metadata": {},
   "outputs": [
    {
     "name": "stdout",
     "output_type": "stream",
     "text": [
      "50\n",
      "50\n",
      "2\n"
     ]
    }
   ],
   "source": [
    "sum_result = 0\n",
    "for i in range(num_walkers):\n",
    "    result_1 = result[i, -1]\n",
    "    if result_1 == 50:\n",
    "        print(result_1)\n",
    "        sum_result += 1\n",
    "    elif result_1 == -50:\n",
    "        print(result_1)\n",
    "        sum_result += 1\n",
    "print(sum_result)\n",
    "       "
   ]
  },
  {
   "cell_type": "code",
   "execution_count": 20,
   "id": "0b3fa7a3",
   "metadata": {},
   "outputs": [
    {
     "name": "stdout",
     "output_type": "stream",
     "text": [
      "50\n",
      "50\n",
      "2\n"
     ]
    }
   ],
   "source": [
    "sum_result = 0\n",
    "for i in range(num_walkers):\n",
    "    result_1 = np.abs(result[i, -1])\n",
    "    if result_1 == 50:\n",
    "        print(result_1)\n",
    "        sum_result += 1\n",
    "print(sum_result)\n",
    "       "
   ]
  },
  {
   "cell_type": "code",
   "execution_count": null,
   "id": "69a8cf44",
   "metadata": {},
   "outputs": [],
   "source": []
  }
 ],
 "metadata": {
  "kernelspec": {
   "display_name": "Python 3 (ipykernel)",
   "language": "python",
   "name": "python3"
  }
 },
 "nbformat": 4,
 "nbformat_minor": 5
}
