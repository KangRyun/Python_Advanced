{
 "cells": [
  {
   "cell_type": "markdown",
   "metadata": {},
   "source": [
    "### 1. \n",
    "\n",
    "이 List 를 이용하여 \n",
    "```python\n",
    "[1,2,3,4,5,6,7,8,9,10]\n",
    "```\n",
    "List의 모든 element에 10을 더한 새로운 리스트를 만들어보시오.  \n",
    "결과물의 출력 예시는 아래와 같습니다.  \n",
    "```python\n",
    "[11,12,13,14,15,16,17,18,19,20]\n",
    "```\n"
   ]
  },
  {
   "cell_type": "code",
   "execution_count": 1,
   "metadata": {},
   "outputs": [
    {
     "data": {
      "text/plain": [
       "[11, 12, 13, 14, 15, 16, 17, 18, 19, 20]"
      ]
     },
     "execution_count": 1,
     "metadata": {},
     "output_type": "execute_result"
    }
   ],
   "source": [
    "a = [1,2,3,4,5,6,7,8,9,10]\n",
    "\n",
    "b = [x+10 for x in a]\n",
    "b"
   ]
  },
  {
   "cell_type": "markdown",
   "metadata": {},
   "source": [
    "### 2. \n",
    "\n",
    "이 List 를 이용하여 \n",
    "```python\n",
    "[1, 2, 3, 4, 5, 6, 7, 8, 9, 10]\n",
    "```\n",
    "List의 모든 element에 0~9사이의 정수를 순차적으로 더한 새로운 리스트를 만들어보시오.  \n",
    "결과물의 출력 예시는 아래와 같습니다.  \n",
    "```python\n",
    "[1, 3, 5, 7, 9, 11, 13, 15, 17, 19]\n",
    "```"
   ]
  },
  {
   "cell_type": "code",
   "execution_count": 2,
   "metadata": {},
   "outputs": [
    {
     "data": {
      "text/plain": [
       "[1, 3, 5, 7, 9, 11, 13, 15, 17, 19]"
      ]
     },
     "execution_count": 2,
     "metadata": {},
     "output_type": "execute_result"
    }
   ],
   "source": [
    "a = [1,2,3,4,5,6,7,8,9,10]\n",
    "\n",
    "b = []\n",
    "\n",
    "for idx, x in enumerate(a):\n",
    "    # print(idx)\n",
    "    b.append(idx+x)\n",
    "\n",
    "b"
   ]
  },
  {
   "cell_type": "code",
   "execution_count": 3,
   "metadata": {},
   "outputs": [
    {
     "data": {
      "text/plain": [
       "[1, 3, 5, 7, 9, 11, 13, 15, 17, 19]"
      ]
     },
     "execution_count": 3,
     "metadata": {},
     "output_type": "execute_result"
    }
   ],
   "source": [
    "[i+j for i,j in zip(list(range(1,11)), list(range(10)))]"
   ]
  },
  {
   "cell_type": "markdown",
   "metadata": {},
   "source": [
    "### 3. \n",
    "다음과 같은 농구선수의 나이와 키를 담은 dictionary가 주어질 때 아래 물음에 답하시오\n"
   ]
  },
  {
   "cell_type": "code",
   "execution_count": 4,
   "metadata": {},
   "outputs": [],
   "source": [
    "basket = {'Paul':[36, 183], 'James': [37, 206], 'Durant': [33, 208], 'Trae': [23, 185], 'Harden': [32, 196]}"
   ]
  },
  {
   "cell_type": "markdown",
   "metadata": {},
   "source": [
    "#### 3.1\n",
    "\n",
    "아래의 농구선수들 정보를 추가로 입력하여 `basket` object를 업데이트 하시오"
   ]
  },
  {
   "cell_type": "code",
   "execution_count": 5,
   "metadata": {},
   "outputs": [],
   "source": [
    "add = {'Luka':[23, 201], 'Kyrie': [30, 188]}"
   ]
  },
  {
   "cell_type": "code",
   "execution_count": 6,
   "metadata": {},
   "outputs": [
    {
     "data": {
      "text/plain": [
       "{'Paul': [36, 183],\n",
       " 'James': [37, 206],\n",
       " 'Durant': [33, 208],\n",
       " 'Trae': [23, 185],\n",
       " 'Harden': [32, 196],\n",
       " 'Luka': [23, 201],\n",
       " 'Kyrie': [30, 188]}"
      ]
     },
     "execution_count": 6,
     "metadata": {},
     "output_type": "execute_result"
    }
   ],
   "source": [
    "basket.update(add)\n",
    "basket"
   ]
  },
  {
   "cell_type": "markdown",
   "metadata": {},
   "source": [
    "#### 3.2\n",
    "\n",
    "키가 200이상인 선수이름을 추출하는 코드를 작성하시오"
   ]
  },
  {
   "cell_type": "code",
   "execution_count": 7,
   "metadata": {},
   "outputs": [
    {
     "name": "stdout",
     "output_type": "stream",
     "text": [
      "Paul\n",
      "James\n",
      "Durant\n",
      "Trae\n",
      "Harden\n",
      "Luka\n",
      "Kyrie\n"
     ]
    }
   ],
   "source": [
    "for name in basket:\n",
    "    print(name)"
   ]
  },
  {
   "cell_type": "code",
   "execution_count": 8,
   "metadata": {},
   "outputs": [
    {
     "data": {
      "text/plain": [
       "['James', 'Durant', 'Luka']"
      ]
     },
     "execution_count": 8,
     "metadata": {},
     "output_type": "execute_result"
    }
   ],
   "source": [
    "player_over_200 = []\n",
    "\n",
    "for name in basket:\n",
    "    if basket[name][1] >= 200:\n",
    "        player_over_200.append(name)\n",
    "\n",
    "player_over_200"
   ]
  },
  {
   "cell_type": "code",
   "execution_count": 9,
   "metadata": {},
   "outputs": [
    {
     "data": {
      "text/plain": [
       "['James', 'Durant', 'Luka']"
      ]
     },
     "execution_count": 9,
     "metadata": {},
     "output_type": "execute_result"
    }
   ],
   "source": [
    "names_of_interest = []\n",
    "for names,j in zip(basket, basket.values()):\n",
    "    if j[1] >= 200:\n",
    "        names_of_interest.append(names)\n",
    "\n",
    "names_of_interest"
   ]
  },
  {
   "cell_type": "markdown",
   "metadata": {},
   "source": [
    "### 4.\n",
    "\n",
    "다음은 2022년 월드컵에 출전하는 16개의 국가 List를 담고 있다.  \n",
    "해당 리스트를 국가의 알파벳 첫 글자를 Key로 하고, 같은 첫글자인 국가들을 Value로 담고 있는 딕셔너리로 변환하시오"
   ]
  },
  {
   "cell_type": "code",
   "execution_count": 10,
   "metadata": {},
   "outputs": [],
   "source": [
    "world = ['Qatar','Germany','Denmark','Brazil','France','Belgium','Croatia',\n",
    "        'Spain','Serbia','England','Switzerland','Netherlands','Argentina','Iran',\n",
    "        'South Korea','Japan', 'Canada', 'Australia', 'Costa Rica']"
   ]
  },
  {
   "cell_type": "code",
   "execution_count": 11,
   "metadata": {},
   "outputs": [],
   "source": [
    "import itertools"
   ]
  },
  {
   "cell_type": "code",
   "execution_count": 12,
   "metadata": {},
   "outputs": [
    {
     "data": {
      "text/plain": [
       "{'A': ['Argentina', 'Australia'],\n",
       " 'B': ['Belgium', 'Brazil'],\n",
       " 'C': ['Canada', 'Costa Rica', 'Croatia'],\n",
       " 'D': ['Denmark'],\n",
       " 'E': ['England'],\n",
       " 'F': ['France'],\n",
       " 'G': ['Germany'],\n",
       " 'I': ['Iran'],\n",
       " 'J': ['Japan'],\n",
       " 'N': ['Netherlands'],\n",
       " 'Q': ['Qatar'],\n",
       " 'S': ['Serbia', 'South Korea', 'Spain', 'Switzerland']}"
      ]
     },
     "execution_count": 12,
     "metadata": {},
     "output_type": "execute_result"
    }
   ],
   "source": [
    "category = {}\n",
    "for k, g in itertools.groupby(sorted(world), lambda x: x[0]):\n",
    "    # print(k)\n",
    "    # print(list(g))\n",
    "    category[k] = list(g)\n",
    "\n",
    "category"
   ]
  },
  {
   "cell_type": "code",
   "execution_count": null,
   "metadata": {},
   "outputs": [],
   "source": []
  },
  {
   "cell_type": "code",
   "execution_count": 13,
   "metadata": {},
   "outputs": [
    {
     "data": {
      "text/plain": [
       "{'Q': ['Qatar'],\n",
       " 'G': ['Germany'],\n",
       " 'D': ['Denmark'],\n",
       " 'B': ['Brazil', 'Belgium'],\n",
       " 'F': ['France'],\n",
       " 'C': ['Croatia', 'Canada', 'Costa Rica'],\n",
       " 'S': ['Spain', 'Serbia', 'Switzerland', 'South Korea'],\n",
       " 'E': ['England'],\n",
       " 'N': ['Netherlands'],\n",
       " 'A': ['Argentina', 'Australia'],\n",
       " 'I': ['Iran'],\n",
       " 'J': ['Japan']}"
      ]
     },
     "execution_count": 13,
     "metadata": {},
     "output_type": "execute_result"
    }
   ],
   "source": [
    "category = {}\n",
    "\n",
    "for nation in world:\n",
    "    letter = nation[0]\n",
    "    if letter not in category:\n",
    "        category[letter] = [nation]\n",
    "    else:\n",
    "        category[letter].append(nation)\n",
    "\n",
    "category"
   ]
  },
  {
   "cell_type": "code",
   "execution_count": 14,
   "metadata": {},
   "outputs": [
    {
     "data": {
      "text/plain": [
       "{'A': ['Argentina', 'Australia'],\n",
       " 'B': ['Belgium', 'Brazil'],\n",
       " 'C': ['Canada', 'Costa Rica', 'Croatia'],\n",
       " 'D': ['Denmark'],\n",
       " 'E': ['England'],\n",
       " 'F': ['France'],\n",
       " 'G': ['Germany'],\n",
       " 'I': ['Iran'],\n",
       " 'J': ['Japan'],\n",
       " 'N': ['Netherlands'],\n",
       " 'Q': ['Qatar'],\n",
       " 'S': ['Serbia', 'South Korea', 'Spain', 'Switzerland']}"
      ]
     },
     "execution_count": 14,
     "metadata": {},
     "output_type": "execute_result"
    }
   ],
   "source": [
    "category = {}\n",
    "\n",
    "for nation in sorted(world):\n",
    "    letter = nation[0]\n",
    "    if letter not in category:\n",
    "        category[letter] = [nation]\n",
    "    else:\n",
    "        category[letter].append(nation)\n",
    "\n",
    "category"
   ]
  }
 ],
 "metadata": {
  "interpreter": {
   "hash": "589d2c327801d52f9f18fcf6f5561ca6139e30d4ce85a6a8c6b130a99549a6b5"
  },
  "kernelspec": {
   "display_name": "Python 3.9.7 ('base')",
   "language": "python",
   "name": "python3"
  },
  "language_info": {
   "codemirror_mode": {
    "name": "ipython",
    "version": 3
   },
   "file_extension": ".py",
   "mimetype": "text/x-python",
   "name": "python",
   "nbconvert_exporter": "python",
   "pygments_lexer": "ipython3",
   "version": "3.9.7"
  },
  "orig_nbformat": 4
 },
 "nbformat": 4,
 "nbformat_minor": 2
}
