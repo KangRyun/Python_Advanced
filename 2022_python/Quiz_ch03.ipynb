{
 "cells": [
  {
   "cell_type": "markdown",
   "id": "4ca07ef8",
   "metadata": {},
   "source": [
    "### 1. \n",
    "\n",
    "이 List 를 이용하여 \n",
    "```python\n",
    "[1,2,3,4,5,6,7,8,9,10]\n",
    "```\n",
    "List의 모든 element에 10을 더한 새로운 리스트를 만들어보시오.  \n",
    "결과물의 출력 예시는 아래와 같습니다.  \n",
    "```python\n",
    "[11,12,13,14,15,16,17,18,19,20]\n",
    "```\n"
   ]
  },
  {
   "cell_type": "code",
   "execution_count": 1,
   "id": "25660dbc",
   "metadata": {},
   "outputs": [],
   "source": [
    "values = [1, 2, 3, 4, 5, 6, 7, 8, 9, 10]"
   ]
  },
  {
   "cell_type": "code",
   "execution_count": 2,
   "id": "09d9d2a0",
   "metadata": {},
   "outputs": [],
   "source": [
    "def add_func(values):\n",
    "    result = []\n",
    "    for value in values:\n",
    "        value = value + 10\n",
    "        result.append(value)\n",
    "    return(result)"
   ]
  },
  {
   "cell_type": "code",
   "execution_count": 4,
   "id": "83413fc1",
   "metadata": {},
   "outputs": [
    {
     "data": {
      "text/plain": [
       "[11, 12, 13, 14, 15, 16, 17, 18, 19, 20]"
      ]
     },
     "execution_count": 4,
     "metadata": {},
     "output_type": "execute_result"
    }
   ],
   "source": [
    "add_func(values)"
   ]
  },
  {
   "cell_type": "markdown",
   "id": "848c3031",
   "metadata": {},
   "source": [
    "### 2. \n",
    "\n",
    "이 List 를 이용하여 \n",
    "```python\n",
    "[1, 2, 3, 4, 5, 6, 7, 8, 9, 10]\n",
    "```\n",
    "List의 모든 element에 0~9사이의 정수를 순차적으로 더한 새로운 리스트를 만들어보시오.  \n",
    "결과물의 출력 예시는 아래와 같습니다.  \n",
    "```python\n",
    "[1, 3, 5, 7, 9, 11, 13, 15, 17, 19]\n",
    "```"
   ]
  },
  {
   "cell_type": "code",
   "execution_count": null,
   "id": "3f35d208",
   "metadata": {},
   "outputs": [],
   "source": []
  },
  {
   "cell_type": "markdown",
   "id": "c5bb193b",
   "metadata": {},
   "source": [
    "### 3. \n",
    "다음과 같은 농구선수의 나이와 키를 담은 dictionary가 주어질 때 아래 물음에 답하시오\n"
   ]
  },
  {
   "cell_type": "code",
   "execution_count": 18,
   "id": "1003a9db",
   "metadata": {},
   "outputs": [],
   "source": [
    "basket = {'Paul':[36, 183], 'James': [37, 206], 'Durant': [33, 208], 'Trae': [23, 185], 'Harden': [32, 196]}"
   ]
  },
  {
   "cell_type": "markdown",
   "id": "e4f21a36",
   "metadata": {},
   "source": [
    "#### 3.1\n",
    "\n",
    "아래의 농구선수들 정보를 추가로 입력하여 `basket` object를 업데이트 하시오"
   ]
  },
  {
   "cell_type": "code",
   "execution_count": 6,
   "id": "84824869",
   "metadata": {},
   "outputs": [],
   "source": [
    "add = {'Luka':[23, 201], 'Kyrie': [30, 188]}"
   ]
  },
  {
   "cell_type": "code",
   "execution_count": 19,
   "id": "6c3b90da",
   "metadata": {},
   "outputs": [
    {
     "data": {
      "text/plain": [
       "{'Paul': [36, 183],\n",
       " 'James': [37, 206],\n",
       " 'Durant': [33, 208],\n",
       " 'Trae': [23, 185],\n",
       " 'Harden': [32, 196],\n",
       " 'Luka': [23, 201],\n",
       " 'Kyrie': [30, 188]}"
      ]
     },
     "execution_count": 19,
     "metadata": {},
     "output_type": "execute_result"
    }
   ],
   "source": [
    "basket.update({'Luka':[23, 201], 'Kyrie': [30, 188]})\n",
    "basket"
   ]
  },
  {
   "cell_type": "markdown",
   "id": "300c865c",
   "metadata": {},
   "source": [
    "#### 3.2\n",
    "\n",
    "키가 200이상인 선수이름을 추출하는 코드를 작성하시오"
   ]
  },
  {
   "cell_type": "code",
   "execution_count": null,
   "id": "2a137793",
   "metadata": {},
   "outputs": [],
   "source": [
    "names_of_interest = []\n",
    "for names in all_data:\n",
    "    # print(names)\n",
    "    enough_es = [name for name in names if name.count('e') >= 1]\n",
    "    # print(enough_es)\n",
    "    names_of_interest.extend(enough_es)\n",
    "names_of_interest"
   ]
  },
  {
   "cell_type": "code",
   "execution_count": 28,
   "id": "02ddf629",
   "metadata": {},
   "outputs": [
    {
     "name": "stdout",
     "output_type": "stream",
     "text": [
      "Paul\n",
      "James\n",
      "Durant\n",
      "Trae\n",
      "Harden\n",
      "Luka\n",
      "Kyrie\n"
     ]
    }
   ],
   "source": [
    "names_of_interest = []\n",
    "for names in basket:\n",
    "    # print(names)"
   ]
  },
  {
   "cell_type": "markdown",
   "id": "2cadcc9b",
   "metadata": {},
   "source": [
    "### 4.\n",
    "\n",
    "다음은 2022년 월드컵에 출전하는 16개의 국가 List를 담고 있다.  \n",
    "해당 리스트를 국가의 알파벳 첫 글자를 Key로 하고, 같은 첫글자인 국가들을 Value로 담고 있는 딕셔너리로 변환하시오"
   ]
  },
  {
   "cell_type": "code",
   "execution_count": 25,
   "id": "20ec08f7",
   "metadata": {},
   "outputs": [],
   "source": [
    "world = ['Qatar','Germany','Denmark','Brazil','France','Belgium','Croatia',\n",
    "        'Spain','Serbia','England','Switzerland','Netherlands','Argentina','Iran',\n",
    "        'South Korea','Japan', 'Canada', 'Australia', 'Costa Rica']"
   ]
  },
  {
   "cell_type": "code",
   "execution_count": null,
   "id": "53114168",
   "metadata": {},
   "outputs": [],
   "source": []
  }
 ],
 "metadata": {
  "kernelspec": {
   "display_name": "Python 3 (ipykernel)",
   "language": "python",
   "name": "python3"
  },
  "language_info": {
   "codemirror_mode": {
    "name": "ipython",
    "version": 3
   },
   "file_extension": ".py",
   "mimetype": "text/x-python",
   "name": "python",
   "nbconvert_exporter": "python",
   "pygments_lexer": "ipython3",
   "version": "3.9.7"
  }
 },
 "nbformat": 4,
 "nbformat_minor": 5
}
