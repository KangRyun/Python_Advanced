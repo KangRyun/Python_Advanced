{
 "cells": [
  {
   "cell_type": "code",
   "execution_count": 1,
   "id": "17748436",
   "metadata": {},
   "outputs": [],
   "source": [
    "import numpy as np"
   ]
  },
  {
   "cell_type": "markdown",
   "id": "a9770c36",
   "metadata": {},
   "source": [
    "### 1. Numpy Basics (각 1점씩)"
   ]
  },
  {
   "cell_type": "markdown",
   "id": "50f34665",
   "metadata": {},
   "source": [
    "(1) 다음과 같은 3차원의 array가 있다고 합시다.  \n",
    "기존의 형태를 유지하면서 10보다 크거나 같은 값들을 0으로 바꾸는 코드를 작성해봅시다"
   ]
  },
  {
   "cell_type": "code",
   "execution_count": 2,
   "id": "1df8555f",
   "metadata": {},
   "outputs": [
    {
     "data": {
      "text/plain": [
       "array([[[ 0,  1,  2,  3],\n",
       "        [ 4,  5,  6,  7],\n",
       "        [ 8,  9, 10, 11]],\n",
       "\n",
       "       [[12, 13, 14, 15],\n",
       "        [16, 17, 18, 19],\n",
       "        [20, 21, 22, 23]]])"
      ]
     },
     "execution_count": 2,
     "metadata": {},
     "output_type": "execute_result"
    }
   ],
   "source": [
    "c=np.arange(24).reshape(2,3,4)\n",
    "c"
   ]
  },
  {
   "cell_type": "code",
   "execution_count": 7,
   "id": "6b10d372",
   "metadata": {},
   "outputs": [
    {
     "data": {
      "text/plain": [
       "array([[[0, 1, 2, 3],\n",
       "        [4, 5, 6, 7],\n",
       "        [8, 9, 0, 0]],\n",
       "\n",
       "       [[0, 0, 0, 0],\n",
       "        [0, 0, 0, 0],\n",
       "        [0, 0, 0, 0]]])"
      ]
     },
     "execution_count": 7,
     "metadata": {},
     "output_type": "execute_result"
    }
   ],
   "source": [
    "np.where(c >= 10, 0, c)"
   ]
  },
  {
   "cell_type": "markdown",
   "id": "84e8d0d5",
   "metadata": {},
   "source": [
    "(2) 아래의 6 by 4 Array를 가로축(행)과 세로축(열)에 대해서 더한(sum) 새로운 array 2개를 만들어 보시오  "
   ]
  },
  {
   "cell_type": "code",
   "execution_count": 4,
   "id": "46f82bc4",
   "metadata": {},
   "outputs": [
    {
     "data": {
      "text/plain": [
       "array([[ 0,  1,  2,  3],\n",
       "       [ 4,  5,  6,  7],\n",
       "       [ 8,  9, 10, 11],\n",
       "       [12, 13, 14, 15],\n",
       "       [16, 17, 18, 19],\n",
       "       [20, 21, 22, 23]])"
      ]
     },
     "execution_count": 4,
     "metadata": {},
     "output_type": "execute_result"
    }
   ],
   "source": [
    "arr=np.arange(24).reshape(6,4)\n",
    "arr"
   ]
  },
  {
   "cell_type": "code",
   "execution_count": 5,
   "id": "61b860a8",
   "metadata": {},
   "outputs": [
    {
     "data": {
      "text/plain": [
       "array([ 6, 22, 38, 54, 70, 86])"
      ]
     },
     "execution_count": 5,
     "metadata": {},
     "output_type": "execute_result"
    }
   ],
   "source": [
    "arr.sum(axis=1)"
   ]
  },
  {
   "cell_type": "code",
   "execution_count": 6,
   "id": "511c4df4",
   "metadata": {},
   "outputs": [
    {
     "data": {
      "text/plain": [
       "array([60, 66, 72, 78])"
      ]
     },
     "execution_count": 6,
     "metadata": {},
     "output_type": "execute_result"
    }
   ],
   "source": [
    "arr.sum(axis=0)"
   ]
  },
  {
   "cell_type": "markdown",
   "id": "c323cf88",
   "metadata": {},
   "source": [
    "### 2. Random walks (각 1점씩)"
   ]
  },
  {
   "cell_type": "markdown",
   "id": "fbafdea2",
   "metadata": {},
   "source": [
    "(1) 주사위를 던져서 1,2,3이 나오면 뒤로 한칸 가고, 4,5,6이 나오면 앞으로 한칸 가는 Random walkers를 100명 만들어보세요.  \n",
    "각각의 Random walker는 주사위를 총 500번씩 던집니다.  "
   ]
  },
  {
   "cell_type": "code",
   "execution_count": null,
   "id": "00adf1d5",
   "metadata": {},
   "outputs": [],
   "source": [
    "arr = np.random.randn(100)\n"
   ]
  },
  {
   "cell_type": "markdown",
   "id": "052740bb",
   "metadata": {},
   "source": [
    "(2) 위에서 도출한 Random walkers 중, 가장 앞으로 많이 간 Walker와 뒤로 가장 많이 간 Walker의 step을 각각 출력하시오"
   ]
  },
  {
   "cell_type": "code",
   "execution_count": null,
   "id": "b68af9af",
   "metadata": {},
   "outputs": [],
   "source": []
  },
  {
   "cell_type": "markdown",
   "id": "c7dbef23",
   "metadata": {},
   "source": [
    "(3) 원점에서부터 +-50만큼 떨어진 거리에 도달한 Walker는 총 몇명입니까?"
   ]
  },
  {
   "cell_type": "code",
   "execution_count": null,
   "id": "a41af609",
   "metadata": {},
   "outputs": [],
   "source": []
  }
 ],
 "metadata": {
  "interpreter": {
   "hash": "d6ebca59dd7d4ea72d46b5a310f38071e5adabe1c422f84e6cb379bfff26c5d9"
  },
  "kernelspec": {
   "display_name": "Python 3.9.7 ('base')",
   "language": "python",
   "name": "python3"
  },
  "language_info": {
   "codemirror_mode": {
    "name": "ipython",
    "version": 3
   },
   "file_extension": ".py",
   "mimetype": "text/x-python",
   "name": "python",
   "nbconvert_exporter": "python",
   "pygments_lexer": "ipython3",
   "version": "3.9.7"
  }
 },
 "nbformat": 4,
 "nbformat_minor": 5
}
