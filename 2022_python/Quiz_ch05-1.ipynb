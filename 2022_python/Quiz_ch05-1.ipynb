{
 "cells": [
  {
   "cell_type": "code",
   "execution_count": 1,
   "id": "c3291188",
   "metadata": {},
   "outputs": [],
   "source": [
    "import numpy as np\n",
    "import pandas as pd"
   ]
  },
  {
   "cell_type": "code",
   "execution_count": 15,
   "id": "caf9e42b",
   "metadata": {},
   "outputs": [],
   "source": [
    "from pandas import Series, DataFrame"
   ]
  },
  {
   "cell_type": "markdown",
   "id": "18de269d",
   "metadata": {},
   "source": [
    "#### 1) 다음은 NBA 선수들의 2021년 득점기록을 나타낸 것이다. Dictionary 형태로 되어 있는 것을 각 key값을 column으로 하는 데이터 프레임으로 변환하시오"
   ]
  },
  {
   "cell_type": "code",
   "execution_count": 2,
   "id": "09d9300b",
   "metadata": {},
   "outputs": [],
   "source": [
    "score_2021 = {\"birthyear\": {\"Paul\":1985, \"Lebron\": 1984, \"Durant\": 1988},\n",
    "              \"height\": {\"Durant\":208, \"Lebron\": 206, \"Paul\": 183},\n",
    "              \"score_21\": {\"Durant\": 380, \"Paul\": 118}\n",
    "}"
   ]
  },
  {
   "cell_type": "code",
   "execution_count": 3,
   "id": "df25e264",
   "metadata": {},
   "outputs": [
    {
     "data": {
      "text/html": [
       "<div>\n",
       "<style scoped>\n",
       "    .dataframe tbody tr th:only-of-type {\n",
       "        vertical-align: middle;\n",
       "    }\n",
       "\n",
       "    .dataframe tbody tr th {\n",
       "        vertical-align: top;\n",
       "    }\n",
       "\n",
       "    .dataframe thead th {\n",
       "        text-align: right;\n",
       "    }\n",
       "</style>\n",
       "<table border=\"1\" class=\"dataframe\">\n",
       "  <thead>\n",
       "    <tr style=\"text-align: right;\">\n",
       "      <th></th>\n",
       "      <th>birthyear</th>\n",
       "      <th>height</th>\n",
       "      <th>score_21</th>\n",
       "    </tr>\n",
       "  </thead>\n",
       "  <tbody>\n",
       "    <tr>\n",
       "      <th>Paul</th>\n",
       "      <td>1985</td>\n",
       "      <td>183</td>\n",
       "      <td>118.0</td>\n",
       "    </tr>\n",
       "    <tr>\n",
       "      <th>Lebron</th>\n",
       "      <td>1984</td>\n",
       "      <td>206</td>\n",
       "      <td>NaN</td>\n",
       "    </tr>\n",
       "    <tr>\n",
       "      <th>Durant</th>\n",
       "      <td>1988</td>\n",
       "      <td>208</td>\n",
       "      <td>380.0</td>\n",
       "    </tr>\n",
       "  </tbody>\n",
       "</table>\n",
       "</div>"
      ],
      "text/plain": [
       "        birthyear  height  score_21\n",
       "Paul         1985     183     118.0\n",
       "Lebron       1984     206       NaN\n",
       "Durant       1988     208     380.0"
      ]
     },
     "execution_count": 3,
     "metadata": {},
     "output_type": "execute_result"
    }
   ],
   "source": [
    "frame = pd.DataFrame(score_2021)\n",
    "frame"
   ]
  },
  {
   "cell_type": "markdown",
   "id": "596791e2",
   "metadata": {},
   "source": [
    "#### 2) Paul, Lebron, Durant의 assist수가 각각 20, 15, 10이라고 할 때 해당 컬럼을 추가해 보시오"
   ]
  },
  {
   "cell_type": "code",
   "execution_count": 4,
   "id": "77d5040f",
   "metadata": {},
   "outputs": [
    {
     "data": {
      "text/html": [
       "<div>\n",
       "<style scoped>\n",
       "    .dataframe tbody tr th:only-of-type {\n",
       "        vertical-align: middle;\n",
       "    }\n",
       "\n",
       "    .dataframe tbody tr th {\n",
       "        vertical-align: top;\n",
       "    }\n",
       "\n",
       "    .dataframe thead th {\n",
       "        text-align: right;\n",
       "    }\n",
       "</style>\n",
       "<table border=\"1\" class=\"dataframe\">\n",
       "  <thead>\n",
       "    <tr style=\"text-align: right;\">\n",
       "      <th></th>\n",
       "      <th>birthyear</th>\n",
       "      <th>height</th>\n",
       "      <th>score_21</th>\n",
       "      <th>assist</th>\n",
       "    </tr>\n",
       "  </thead>\n",
       "  <tbody>\n",
       "    <tr>\n",
       "      <th>Paul</th>\n",
       "      <td>1985</td>\n",
       "      <td>183</td>\n",
       "      <td>118.0</td>\n",
       "      <td>20</td>\n",
       "    </tr>\n",
       "    <tr>\n",
       "      <th>Lebron</th>\n",
       "      <td>1984</td>\n",
       "      <td>206</td>\n",
       "      <td>NaN</td>\n",
       "      <td>15</td>\n",
       "    </tr>\n",
       "    <tr>\n",
       "      <th>Durant</th>\n",
       "      <td>1988</td>\n",
       "      <td>208</td>\n",
       "      <td>380.0</td>\n",
       "      <td>10</td>\n",
       "    </tr>\n",
       "  </tbody>\n",
       "</table>\n",
       "</div>"
      ],
      "text/plain": [
       "        birthyear  height  score_21  assist\n",
       "Paul         1985     183     118.0      20\n",
       "Lebron       1984     206       NaN      15\n",
       "Durant       1988     208     380.0      10"
      ]
     },
     "execution_count": 4,
     "metadata": {},
     "output_type": "execute_result"
    }
   ],
   "source": [
    "frame['assist'] = 20, 15, 10\n",
    "frame"
   ]
  },
  {
   "cell_type": "markdown",
   "id": "9f53a950",
   "metadata": {},
   "source": [
    "#### 3) height 200이상이고 assist 값이 13 이상인 농구선수를 추출하는 코드를 작성하시오"
   ]
  },
  {
   "cell_type": "code",
   "execution_count": 6,
   "id": "61aaa016",
   "metadata": {},
   "outputs": [
    {
     "data": {
      "text/html": [
       "<div>\n",
       "<style scoped>\n",
       "    .dataframe tbody tr th:only-of-type {\n",
       "        vertical-align: middle;\n",
       "    }\n",
       "\n",
       "    .dataframe tbody tr th {\n",
       "        vertical-align: top;\n",
       "    }\n",
       "\n",
       "    .dataframe thead th {\n",
       "        text-align: right;\n",
       "    }\n",
       "</style>\n",
       "<table border=\"1\" class=\"dataframe\">\n",
       "  <thead>\n",
       "    <tr style=\"text-align: right;\">\n",
       "      <th></th>\n",
       "      <th>birthyear</th>\n",
       "      <th>height</th>\n",
       "      <th>score_21</th>\n",
       "      <th>assist</th>\n",
       "    </tr>\n",
       "  </thead>\n",
       "  <tbody>\n",
       "    <tr>\n",
       "      <th>Lebron</th>\n",
       "      <td>1984</td>\n",
       "      <td>206</td>\n",
       "      <td>NaN</td>\n",
       "      <td>15</td>\n",
       "    </tr>\n",
       "    <tr>\n",
       "      <th>Durant</th>\n",
       "      <td>1988</td>\n",
       "      <td>208</td>\n",
       "      <td>380.0</td>\n",
       "      <td>10</td>\n",
       "    </tr>\n",
       "  </tbody>\n",
       "</table>\n",
       "</div>"
      ],
      "text/plain": [
       "        birthyear  height  score_21  assist\n",
       "Lebron       1984     206       NaN      15\n",
       "Durant       1988     208     380.0      10"
      ]
     },
     "execution_count": 6,
     "metadata": {},
     "output_type": "execute_result"
    }
   ],
   "source": [
    "frame2 = frame[frame['height'] >= 200]\n",
    "frame2"
   ]
  },
  {
   "cell_type": "code",
   "execution_count": 7,
   "id": "5b2c1bb1",
   "metadata": {},
   "outputs": [
    {
     "data": {
      "text/html": [
       "<div>\n",
       "<style scoped>\n",
       "    .dataframe tbody tr th:only-of-type {\n",
       "        vertical-align: middle;\n",
       "    }\n",
       "\n",
       "    .dataframe tbody tr th {\n",
       "        vertical-align: top;\n",
       "    }\n",
       "\n",
       "    .dataframe thead th {\n",
       "        text-align: right;\n",
       "    }\n",
       "</style>\n",
       "<table border=\"1\" class=\"dataframe\">\n",
       "  <thead>\n",
       "    <tr style=\"text-align: right;\">\n",
       "      <th></th>\n",
       "      <th>birthyear</th>\n",
       "      <th>height</th>\n",
       "      <th>score_21</th>\n",
       "      <th>assist</th>\n",
       "    </tr>\n",
       "  </thead>\n",
       "  <tbody>\n",
       "    <tr>\n",
       "      <th>Lebron</th>\n",
       "      <td>1984</td>\n",
       "      <td>206</td>\n",
       "      <td>NaN</td>\n",
       "      <td>15</td>\n",
       "    </tr>\n",
       "  </tbody>\n",
       "</table>\n",
       "</div>"
      ],
      "text/plain": [
       "        birthyear  height  score_21  assist\n",
       "Lebron       1984     206       NaN      15"
      ]
     },
     "execution_count": 7,
     "metadata": {},
     "output_type": "execute_result"
    }
   ],
   "source": [
    "frame3 = frame2[frame2['assist'] >= 13]\n",
    "frame3"
   ]
  },
  {
   "cell_type": "markdown",
   "id": "ae56d40e",
   "metadata": {},
   "source": [
    "#### 다음은 위의 농구선수들의 각 월별(1월, 2월, 3월) 득점수를 나타낸 것이다."
   ]
  },
  {
   "cell_type": "code",
   "execution_count": 8,
   "id": "4eeacc8c",
   "metadata": {},
   "outputs": [
    {
     "data": {
      "text/html": [
       "<div>\n",
       "<style scoped>\n",
       "    .dataframe tbody tr th:only-of-type {\n",
       "        vertical-align: middle;\n",
       "    }\n",
       "\n",
       "    .dataframe tbody tr th {\n",
       "        vertical-align: top;\n",
       "    }\n",
       "\n",
       "    .dataframe thead th {\n",
       "        text-align: right;\n",
       "    }\n",
       "</style>\n",
       "<table border=\"1\" class=\"dataframe\">\n",
       "  <thead>\n",
       "    <tr style=\"text-align: right;\">\n",
       "      <th></th>\n",
       "      <th>1월</th>\n",
       "      <th>2월</th>\n",
       "      <th>3월</th>\n",
       "    </tr>\n",
       "  </thead>\n",
       "  <tbody>\n",
       "    <tr>\n",
       "      <th>Lebron</th>\n",
       "      <td>80</td>\n",
       "      <td>90</td>\n",
       "      <td>100</td>\n",
       "    </tr>\n",
       "    <tr>\n",
       "      <th>Paul</th>\n",
       "      <td>110</td>\n",
       "      <td>140</td>\n",
       "      <td>150</td>\n",
       "    </tr>\n",
       "    <tr>\n",
       "      <th>Durant</th>\n",
       "      <td>145</td>\n",
       "      <td>157</td>\n",
       "      <td>155</td>\n",
       "    </tr>\n",
       "    <tr>\n",
       "      <th>Curry</th>\n",
       "      <td>201</td>\n",
       "      <td>70</td>\n",
       "      <td>198</td>\n",
       "    </tr>\n",
       "  </tbody>\n",
       "</table>\n",
       "</div>"
      ],
      "text/plain": [
       "         1월   2월   3월\n",
       "Lebron   80   90  100\n",
       "Paul    110  140  150\n",
       "Durant  145  157  155\n",
       "Curry   201   70  198"
      ]
     },
     "execution_count": 8,
     "metadata": {},
     "output_type": "execute_result"
    }
   ],
   "source": [
    "score_array = np.array([[80,90,100],[110,140,150],[145, 157, 155], [201, 70, 198]])\n",
    "score_by_month = pd.DataFrame(score_array, columns=[\"1월\", \"2월\", \"3월\"], index=[\"Lebron\",\"Paul\",\"Durant\",\"Curry\"])\n",
    "score_by_month"
   ]
  },
  {
   "cell_type": "markdown",
   "id": "787d2a4a",
   "metadata": {},
   "source": [
    "#### 4) 선수별 월 평균득점을 추출하는 코드를 작성하시오. "
   ]
  },
  {
   "cell_type": "code",
   "execution_count": 9,
   "id": "1e1e0000",
   "metadata": {},
   "outputs": [
    {
     "data": {
      "text/plain": [
       "1월    134.00\n",
       "2월    114.25\n",
       "3월    150.75\n",
       "dtype: float64"
      ]
     },
     "execution_count": 9,
     "metadata": {},
     "output_type": "execute_result"
    }
   ],
   "source": [
    "score_by_month.mean()"
   ]
  },
  {
   "cell_type": "markdown",
   "id": "1f054d76",
   "metadata": {},
   "source": [
    "#### 5) 월별 선수들의 득점의 합을 추출하는 코드를 작성하시오"
   ]
  },
  {
   "cell_type": "code",
   "execution_count": 10,
   "id": "b8947de7",
   "metadata": {},
   "outputs": [
    {
     "data": {
      "text/plain": [
       "1월    536\n",
       "2월    457\n",
       "3월    603\n",
       "dtype: int64"
      ]
     },
     "execution_count": 10,
     "metadata": {},
     "output_type": "execute_result"
    }
   ],
   "source": [
    "score_by_month.sum()"
   ]
  },
  {
   "cell_type": "code",
   "execution_count": null,
   "id": "0acf084c",
   "metadata": {},
   "outputs": [],
   "source": []
  }
 ],
 "metadata": {
  "interpreter": {
   "hash": "d6ebca59dd7d4ea72d46b5a310f38071e5adabe1c422f84e6cb379bfff26c5d9"
  },
  "kernelspec": {
   "display_name": "Python 3.9.7 ('base')",
   "language": "python",
   "name": "python3"
  },
  "language_info": {
   "codemirror_mode": {
    "name": "ipython",
    "version": 3
   },
   "file_extension": ".py",
   "mimetype": "text/x-python",
   "name": "python",
   "nbconvert_exporter": "python",
   "pygments_lexer": "ipython3",
   "version": "3.9.7"
  }
 },
 "nbformat": 4,
 "nbformat_minor": 5
}
